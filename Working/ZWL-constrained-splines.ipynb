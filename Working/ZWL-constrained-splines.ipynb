{
 "cells": [
  {
   "cell_type": "code",
   "execution_count": 61,
   "metadata": {
    "collapsed": false
   },
   "outputs": [],
   "source": [
    "%matplotlib inline\n",
    "from IPython.core.interactiveshell import InteractiveShell\n",
    "InteractiveShell.ast_node_interactivity = \"last_expr\"\n",
    "\n",
    "import matplotlib.pyplot as plt\n",
    "\n",
    "import numpy as np\n",
    "import scipy.integrate\n",
    "import scipy.optimize\n",
    "import math\n",
    "import time\n",
    "from utils import *"
   ]
  },
  {
   "cell_type": "code",
   "execution_count": 291,
   "metadata": {
    "collapsed": false
   },
   "outputs": [],
   "source": [
    "def h(alpha, a, s1, s2):\n",
    "    return ((alpha**2 * s2 + alpha * a * s2 ** 2 + a**2 * s2**3 / 3) -\n",
    "            (alpha**2 * s1 + alpha * a * s1 ** 2 + a**2 * s1**3 / 3))\n",
    "\n",
    "def h3(alpha, a, b, s1, s2):\n",
    "    return (\n",
    "        (alpha**2 * s2 + a**2 * s2**3 / 3 + b**2 * s2**5 / 5 + alpha*a * s2**2 + 2*alpha * s2**3 / 3 + 2*a*b* s2**4 / 4) -\n",
    "        (alpha**2 * s1 + a**2 * s1**3 / 3 + b**2 * s1**5 / 5 + alpha*a * s1**2 + 2*alpha * s1**3 / 3 + 2*a*b* s1**4 / 4)\n",
    "    )\n",
    "\n",
    "def s_factory_factory(vec_z):\n",
    "    # vec_z =    # j = 0..J\n",
    "    vec_del_z = vec_z[1:] - vec_z[:-1] # j = 0..J-1\n",
    "    \n",
    "    def s_factory(theta): # args = theta, each j = 0..J\n",
    "        ##beta0 = theta[0]\n",
    "        ##beta1 = theta[1]\n",
    "        ##vec_b = theta[2:]\n",
    "        beta0 = theta[0]\n",
    "        beta1 = theta[1]\n",
    "        beta2 = theta[2]\n",
    "        vec_b = theta[3:(2+len(vec_z))]\n",
    "        vec_c = theta[(2+len(vec_z)):]\n",
    "        ## done\n",
    "\n",
    "        ##vec_alpha = np.hstack((beta0, beta0 - np.cumsum(vec_b * vec_z[1:])))\n",
    "        ##vec_a = np.hstack((beta1, beta1 + np.cumsum(vec_b)))\n",
    "        vec_alpha = np.hstack((beta0, beta0 - np.cumsum(vec_b * vec_z[1:] + vec_c * vec_z[1:]**2)))\n",
    "        vec_a = np.hstack((beta1, beta1 + np.cumsum(vec_b - vec_c * vec_z[1:])))\n",
    "        vec_A = np.hstack((beta2, beta2 + np.cumsum(vec_c)))\n",
    "        ## done\n",
    "        \n",
    "        ##vec_h = h(vec_alpha, vec_a, vec_z, np.hstack((vec_z[1:],[1.0]))) # j = 0..J\n",
    "        vec_h = h3(vec_alpha, vec_a, vec_A, vec_z, np.hstack((vec_z[1:],[1.0]))) # j = 0..J\n",
    "        ## done\n",
    "        vec_H = np.cumsum(vec_h) # j = 0..J\n",
    "        vec_exp_H = np.exp(vec_H)\n",
    "        vec_sum_H = np.cumsum(vec_H) # j = 0..J\n",
    "        \n",
    "        vec_exp_sum_H = np.exp(vec_sum_H) # j = 0..J\n",
    "        vec_del_z_exp_sum_H = vec_del_z * vec_exp_sum_H[:-1]\n",
    "        vec_sum_del_z_exp_sum_H = np.cumsum(vec_del_z_exp_sum_H)\n",
    "        \n",
    "        vec_term1_parts = np.empty(len(vec_z))\n",
    "        for j in range(len(vec_z)-1):\n",
    "            ##integrand = lambda s: math.exp(h(vec_alpha[j], vec_a[j], vec_z[j], s))\n",
    "            integrand = lambda s: math.exp(h3(vec_alpha[j], vec_a[j], vec_A[j], vec_z[j], s))\n",
    "            ## done\n",
    "            vec_term1_parts[j] = ((vec_exp_H[j-1] if j > 0 else 1) *\n",
    "                                  (scipy.integrate.quad(integrand, vec_z[j], vec_z[j+1]))[0])\n",
    "        vec_term1 = np.cumsum(vec_term1_parts)\n",
    "            \n",
    "\n",
    "        def s(u):\n",
    "            if u < 0:\n",
    "                #print(\"Negative u requested\", u)\n",
    "                return 0\n",
    "            \n",
    "            Ju = np.argmax((vec_z - u)[vec_z <= u])\n",
    "\n",
    "            #integrand = lambda s: math.exp(h(alpha_Ju, a_Ju, z_Ju, s))\n",
    "            #integral = scipy.integrate.quad(integrand, z_Ju, u)[0]\n",
    "            #term2 = vec_exp_sum_H[Ju] * integral\n",
    "\n",
    "            #term1 = (vec_sum_del_z_exp_sum_H[Ju-1] if Ju > 0 else 0)\n",
    "            #term1 = 0\n",
    "            #for j in range(0, Ju):\n",
    "            #    integrand = lambda s: math.exp(h(vec_alpha[j], vec_a[j], vec_z[j], s))\n",
    "            #    term1 += ((vec_exp_H[j-1] if j > 0 else 1) *\n",
    "            #              (scipy.integrate.quad(integrand, vec_z[j], vec_z[j+1]))[0])\n",
    "            term1 = vec_term1[Ju-1] if Ju > 0 else 0\n",
    "            \n",
    "            ##integrand = lambda s: math.exp(h(vec_alpha[Ju], vec_a[Ju], vec_z[Ju], s))\n",
    "            integrand = lambda s: math.exp(h3(vec_alpha[Ju], vec_a[Ju], vec_A[Ju], vec_z[Ju], s))\n",
    "            ## done\n",
    "            term2 = (vec_exp_H[Ju-1] if Ju > 0 else 1) * scipy.integrate.quad(integrand, vec_z[Ju], u)[0]\n",
    "                        \n",
    "            result = term1 + term2\n",
    "\n",
    "            return result\n",
    "                \n",
    "        return np.vectorize(s)\n",
    "    return s_factory\n",
    "\n",
    "def lorenz_factory(s):\n",
    "    s1 = s(1)\n",
    "    return lambda u: s(u) / s1\n",
    "\n",
    "def objective_factory(vec_z, vec_s):\n",
    "    s_factory = s_factory_factory(vec_z)\n",
    "    \n",
    "    def objective(theta):        \n",
    "        s = s_factory(theta)\n",
    "        \n",
    "        error = vec_s - lorenz_factory(s)(vec_z)\n",
    "        return np.sum(error * error)\n",
    "    return objective"
   ]
  },
  {
   "cell_type": "markdown",
   "metadata": {},
   "source": [
    "$$\n",
    "(\\alpha + a x + b x^2)^2 = \\alpha^2 + a^2 x^2 +  b^2 x^4 + 2 \\alpha a x + 2 \\alpha b x^2 + 2 a b x^3\n",
    "$$\n",
    "integral\n",
    "$$\n",
    "\\alpha^2 x + a^2 x^3 / 3 + b^2 x^5 / 5 + \\alpha a x^2 + 2 \\alpha  x^3 / 3 + 2 a b x^4 / 4\n",
    "$$"
   ]
  },
  {
   "cell_type": "markdown",
   "metadata": {
    "collapsed": true
   },
   "source": [
    "\n",
    "\n",
    "def m1(t, vec_z, theta):\n",
    "    vec_alpha = theta[0:len(theta)//2]\n",
    "    vec_a     = theta[len(theta)//2:]\n",
    "    #vec_alpha = theta[0:len(theta)//3]\n",
    "    #vec_a     = theta[len(theta)//3:2*len(theta)//3]\n",
    "    #vec_b     = theta[2*len(theta)//3:]\n",
    "    beta0 = theta[0]\n",
    "    beta1 = theta[1]\n",
    "    vec_b = theta[2:]\n",
    "\n",
    "    return beta0 + beta1 + np.sum((vec_b * (t - vec_z[1:]))[t > vec_z[1:]])\n",
    "\n",
    "def integral1(s, vec_z, theta):\n",
    "    integrand = lambda t: (m1(t, vec_z, theta))**2\n",
    "    return scipy.integrate.quad(integrand, 0, s)[0]\n",
    "\n",
    "def s2_factory(vec_z, theta):\n",
    "    def s2(u):\n",
    "        integrand = lambda s: math.exp(integral1(s, vec_z, theta))\n",
    "        return scipy.integrate.quad(integrand, 0, u)[0]\n",
    "    return np.vectorize(s2)\n",
    "\n",
    "def lorenz_factory(s):\n",
    "    s1 = s(1)\n",
    "    return lambda u: s(u) / s1\n",
    "\n",
    "def objective2_factory(vec_z, vec_s):\n",
    "    def objective(theta):\n",
    "        s2 = s2_factory(vec_z, theta)\n",
    "        error = vec_s - lorenz_factory(s2)(vec_z)\n",
    "        return np.sum(error * error)\n",
    "    return objective"
   ]
  },
  {
   "cell_type": "code",
   "execution_count": 298,
   "metadata": {
    "collapsed": false
   },
   "outputs": [],
   "source": [
    "#Indo - min 22 mean 133 = 0.17 slope\n",
    "p = np.array([0.0, 2.4968789013732834e-05, 0.010038, 0.02002, 0.030029, 0.040013, 0.090013999999999997, 0.14005000000000001, 0.19003, 0.24002000000000001, 0.29014000000000001, 0.34003, 0.39001999999999998, 0.44001000000000001, 0.49003000000000002, 0.54005000000000003, 0.59003000000000005, 0.64005000000000001, 0.68999999999999995, 0.74004000000000003, 0.79000000000000004, 0.83999999999999997, 0.89000000000000001, 0.94003000000000003, 0.99000999999999995])\n",
    "L = np.array([0.0, 4.1776197942857322e-06, 0.0027583999999999998, 0.0059572999999999996, 0.0094094000000000001, 0.013046, 0.033440999999999999, 0.056544999999999998, 0.081741999999999995, 0.10892, 0.13805000000000001, 0.16905999999999999, 0.20247999999999999, 0.23838000000000001, 0.27700999999999998, 0.31847999999999999, 0.36293999999999998, 0.41088000000000002, 0.46260000000000001, 0.51895000000000002, 0.58048999999999995, 0.64817999999999998, 0.72431000000000001, 0.81459000000000004, 0.94091999999999998])\n",
    "#\n",
    "#Brazil\n",
    "#p = np.array([0.0, 5.0057566201131301e-05, 0.014407, 0.020039999999999999, 0.029999999999999999, 0.040009000000000003, 0.090017, 0.14002999999999999, 0.19001000000000001, 0.24104999999999999, 0.29000999999999999, 0.34000999999999998, 0.39268999999999998, 0.44002000000000002, 0.49020000000000002, 0.54000000000000004, 0.59003000000000005, 0.64007000000000003, 0.69001000000000001, 0.74775000000000003, 0.7903, 0.84055999999999997, 0.89017000000000002, 0.94025999999999998, 0.99051999999999996])\n",
    "#L = np.array([0.0, 0.0, 0.0, 0.00015632999999999999, 0.00064271, 0.0013722000000000001, 0.0079450000000000007, 0.017760000000000001, 0.030047000000000001, 0.045176000000000001, 0.062114999999999997, 0.081788, 0.10553999999999999, 0.12956000000000001, 0.15811, 0.19009999999999999, 0.22564000000000001, 0.26451999999999998, 0.30784, 0.36535000000000001, 0.41399000000000002, 0.48131000000000002, 0.56291999999999998, 0.67522000000000004, 0.88526000000000005])\n",
    "\n",
    "#p = np.array([0.0,0.1,0.2,0.3,0.4,0.8])\n",
    "#L = p*p\n",
    "\n",
    "objective = objective_factory(p, L)\n",
    "#objective = objective2_factory(p, L)\n",
    "np.random.seed(int(time.time()))\n",
    "#init_theta = np.random.random(len(p)*2)\n",
    "init_theta = np.random.random(3 + (len(p)-1)*2)\n",
    "result = scipy.optimize.minimize(objective, init_theta, options={\"maxiter\": 5000, 'gtol': 1e-5}) # , \n",
    "theta = result[\"x\"]\n",
    "#result"
   ]
  },
  {
   "cell_type": "code",
   "execution_count": 307,
   "metadata": {
    "collapsed": false
   },
   "outputs": [
    {
     "data": {
      "text/plain": [
       "(0, 1)"
      ]
     },
     "execution_count": 307,
     "metadata": {},
     "output_type": "execute_result"
    },
    {
     "data": {
      "image/png": "[encoded data removed]",
      "text/plain": [
       "<matplotlib.figure.Figure at 0x1066e38d0>"
      ]
     },
     "metadata": {},
     "output_type": "display_data"
    }
   ],
   "source": [
    "theta = result[\"x\"]\n",
    "s = s_factory_factory(p)(theta)\n",
    "#s = s2_factory(p, theta)\n",
    "Lorenz = lorenz_factory(s)\n",
    "lower = 0\n",
    "upper = 1\n",
    "xgrid = np.linspace(lower,upper,10000)\n",
    "plt.plot(xgrid, Lorenz(xgrid))\n",
    "plt.scatter(p,L)\n",
    "#plt.vlines(x=0.1,ymin=0,ymax=1)\n",
    "plt.xlim(lower,upper)\n",
    "plt.ylim(0,1)"
   ]
  },
  {
   "cell_type": "code",
   "execution_count": 308,
   "metadata": {
    "collapsed": false
   },
   "outputs": [
    {
     "data": {
      "text/plain": [
       "[<matplotlib.lines.Line2D at 0x107bf16a0>]"
      ]
     },
     "execution_count": 308,
     "metadata": {},
     "output_type": "execute_result"
    },
    {
     "data": {
      "image/png": "[encoded data removed]",
      "text/plain": [
       "<matplotlib.figure.Figure at 0x1078ae908>"
      ]
     },
     "metadata": {},
     "output_type": "display_data"
    }
   ],
   "source": [
    "quantile = lambda p: 133 * derivative(Lorenz)(p)\n",
    "plt.plot(xgrid, quantile(xgrid))"
   ]
  },
  {
   "cell_type": "code",
   "execution_count": 309,
   "metadata": {
    "collapsed": false
   },
   "outputs": [
    {
     "data": {
      "text/plain": [
       "(0, 1000)"
      ]
     },
     "execution_count": 309,
     "metadata": {},
     "output_type": "execute_result"
    },
    {
     "data": {
      "image/png": "[encoded data removed]",
      "text/plain": [
       "<matplotlib.figure.Figure at 0x10793b080>"
      ]
     },
     "metadata": {},
     "output_type": "display_data"
    }
   ],
   "source": [
    "dist = inverse(quantile)\n",
    "dens = derivative(dist)\n",
    "\n",
    "ygrid = np.linspace(0, quantile(0.97), 1000)\n",
    "\n",
    "dens_points = dens(ygrid)\n",
    "plt.plot(ygrid, dens_points)\n",
    "plt.xlim(0,1000)"
   ]
  },
  {
   "cell_type": "code",
   "execution_count": null,
   "metadata": {
    "collapsed": true
   },
   "outputs": [],
   "source": []
  }
 ],
 "metadata": {
  "kernelspec": {
   "display_name": "Python 3",
   "language": "python",
   "name": "python3"
  },
  "language_info": {
   "codemirror_mode": {
    "name": "ipython",
    "version": 3
   },
   "file_extension": ".py",
   "mimetype": "text/x-python",
   "name": "python",
   "nbconvert_exporter": "python",
   "pygments_lexer": "ipython3",
   "version": "3.5.2"
  }
 },
 "nbformat": 4,
 "nbformat_minor": 1
}
