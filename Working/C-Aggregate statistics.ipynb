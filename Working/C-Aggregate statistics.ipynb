{
 "cells": [
  {
   "cell_type": "code",
   "execution_count": 8,
   "metadata": {
    "collapsed": false
   },
   "outputs": [],
   "source": [
    "import json\n",
    "import glob\n",
    "import csv"
   ]
  },
  {
   "cell_type": "markdown",
   "metadata": {},
   "source": [
    "Edit this next cell to choose a different country / year report:"
   ]
  },
  {
   "cell_type": "code",
   "execution_count": 9,
   "metadata": {
    "collapsed": false
   },
   "outputs": [],
   "source": [
    "fields = ['country', 'iso3c', 'year', 'coverage', 'measure', 'format', 'source', 'timespan', 'lorenz_points']\n",
    "\n",
    "with open('./summary.csv','w') as f_summary:\n",
    "    writer = csv.DictWriter(f_summary, fields)\n",
    "    writer.writeheader()\n",
    "    for fn in glob.glob('../jsoncache/*.json'):\n",
    "        #print(fn)\n",
    "        try:\n",
    "            with open(fn, 'r') as f:\n",
    "                d = json.loads(f.read())\n",
    "                entry = dict()\n",
    "                entry.update(d['dataset'])\n",
    "                entry['lorenz_points'] = len(d['lorenz']['L'])\n",
    "                writer.writerow(entry)\n",
    "        except (ValueError, KeyError) as e:\n",
    "            print(fn, e)\n"
   ]
  },
  {
   "cell_type": "code",
   "execution_count": null,
   "metadata": {
    "collapsed": true
   },
   "outputs": [],
   "source": []
  }
 ],
 "metadata": {
  "kernelspec": {
   "display_name": "Python 3",
   "language": "python",
   "name": "python3"
  },
  "language_info": {
   "codemirror_mode": {
    "name": "ipython",
    "version": 3
   },
   "file_extension": ".py",
   "mimetype": "text/x-python",
   "name": "python",
   "nbconvert_exporter": "python",
   "pygments_lexer": "ipython3",
   "version": "3.5.2"
  }
 },
 "nbformat": 4,
 "nbformat_minor": 1
}
