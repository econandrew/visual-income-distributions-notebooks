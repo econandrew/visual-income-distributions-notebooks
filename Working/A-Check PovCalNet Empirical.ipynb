{
 "cells": [
  {
   "cell_type": "code",
   "execution_count": 10,
   "metadata": {
    "collapsed": false
   },
   "outputs": [],
   "source": [
    "%matplotlib inline\n",
    "from IPython.core.interactiveshell import InteractiveShell\n",
    "InteractiveShell.ast_node_interactivity = \"last_expr\"\n",
    "\n",
    "import matplotlib.pyplot as plt\n",
    "\n",
    "import json\n",
    "import pandas as pd\n",
    "import numpy as np\n",
    "import scipy.interpolate\n",
    "import scipy.optimize\n",
    "\n",
    "from utils import *"
   ]
  },
  {
   "cell_type": "markdown",
   "metadata": {},
   "source": [
    "Edit this next cell to choose a different country / year report:"
   ]
  },
  {
   "cell_type": "code",
   "execution_count": 16,
   "metadata": {
    "collapsed": false
   },
   "outputs": [
    {
     "name": "stdout",
     "output_type": "stream",
     "text": [
      "Sample size          17980\n",
      "timespan             UnDefined\n",
      "measure              Consumption\n",
      "iso3c                PAK\n",
      "source               PAK_N2013X\n",
      "coverage             National\n",
      "year                 2013\n",
      "country              Pakistan\n",
      "format               Unit record\n"
     ]
    }
   ],
   "source": [
    "# BGR_3_2001.json\n",
    "# BRA_3_2001.json\n",
    "# MWI_3_2010.23.json\n",
    "# ECU_3_2014.json\n",
    "# ARM_3_2010.json\n",
    "# NGA_3_2009.83.json\n",
    "# IDN_1_2014.json quite pointed / triangular\n",
    "# PHL_3_2009.json\n",
    "# ZAR_3_2012.4.json\n",
    "# TZA_3_2011.77.json\n",
    "# VNM_3_2008.json\n",
    "# MOZ_3_2008.67.json quite rounded\n",
    "# UZB_3_2003.json\n",
    "# KIR_3_2006.json needs 1e-4\n",
    "# PNG_3_2009.67.json needs False and 1e-5\n",
    "# PAK_3_2013.5.json\n",
    "# BGD_3_2010.json not super good need 1e-5\n",
    "# ARG_2_1991.json needs False currency scales weird\n",
    "\n",
    "with open(\"../jsoncache/PAK_3_2013.5.json\",\"r\") as f:\n",
    "    d = json.loads(f.read())\n",
    "    \n",
    "print(\"Sample size\".ljust(20),d['sample']['N'])\n",
    "for k in d['dataset']:\n",
    "    print(k.ljust(20),d['dataset'][k])"
   ]
  },
  {
   "cell_type": "markdown",
   "metadata": {},
   "source": [
    "These next few conversions don't really work. The PPP data field seems wrong."
   ]
  },
  {
   "cell_type": "code",
   "execution_count": 17,
   "metadata": {
    "collapsed": false
   },
   "outputs": [
    {
     "name": "stdout",
     "output_type": "stream",
     "text": [
      "\u001b[32mPoverty line (PPP): \tcomputed =       57.792\tgiven =       57.792\tdifference = 0.0%\u001b[0m\n",
      "\u001b[31mPoverty line (LCU): \tcomputed =       1468.7\tgiven =       1797.2\tdifference = 18.278%\u001b[0m\n"
     ]
    }
   ],
   "source": [
    "# Check poverty line conversion\n",
    "DAYS_PER_MONTH = 30.4167\n",
    "line_month_ppp_calc = d['inputs']['line_day_ppp'] * DAYS_PER_MONTH\n",
    "line_month_ppp_given = d['inputs']['line_month_ppp']\n",
    "myassert(\"Poverty line (PPP):\", line_month_ppp_calc, line_month_ppp_given)\n",
    "\n",
    "ppp = d['inputs']['ppp']\n",
    "\n",
    "line_month_lcu_calc = line_month_ppp_calc * ppp\n",
    "line_month_lcu_given = d['inputs']['line_month_lcu']\n",
    "myassert(\"Poverty line (LCU):\", line_month_lcu_calc, line_month_lcu_given)"
   ]
  },
  {
   "cell_type": "code",
   "execution_count": 18,
   "metadata": {
    "collapsed": false
   },
   "outputs": [
    {
     "name": "stdout",
     "output_type": "stream",
     "text": [
      "\u001b[31mData mean (PPP):    \tcomputed =       164.62\tgiven =       134.53\tdifference = 22.367%\u001b[0m\n",
      "\u001b[31mImplied PPP:        \tcomputed =       31.099\tgiven =       25.414\tdifference = 22.367%\u001b[0m\n"
     ]
    }
   ],
   "source": [
    "# Check data mean\n",
    "sample_mean_ppp_calc = d['sample']['mean_month_lcu'] / ppp\n",
    "sample_mean_ppp_given = d['sample']['mean_month_ppp']\n",
    "myassert(\"Data mean (PPP):\", sample_mean_ppp_calc, sample_mean_ppp_given)\n",
    "\n",
    "implied_ppp = d['sample']['mean_month_lcu'] / d['sample']['mean_month_ppp']\n",
    "myassert(\"Implied PPP:\", implied_ppp, ppp)"
   ]
  },
  {
   "cell_type": "markdown",
   "metadata": {},
   "source": [
    "But this one only works if you use the PPP given applied to sample mean in LCU, which is odd."
   ]
  },
  {
   "cell_type": "code",
   "execution_count": 19,
   "metadata": {
    "collapsed": false
   },
   "outputs": [
    {
     "name": "stdout",
     "output_type": "stream",
     "text": [
      "\u001b[32mTotal wealth:       \tcomputed = 26808308440.0\tgiven = 26808400000.0\tdifference = 0.0%\u001b[0m\n"
     ]
    }
   ],
   "source": [
    "pop_N = d['sample']['effective_pop_N']\n",
    "total_wealth_calc = pop_N * sample_mean_ppp_calc\n",
    "total_wealth_given = d['sample']['effective_pop_wealth']\n",
    "myassert(\"Total wealth:\", total_wealth_calc, total_wealth_given)"
   ]
  },
  {
   "cell_type": "markdown",
   "metadata": {},
   "source": [
    "Minimum and maximum can't be checked,  but load them anyway in case we use them later."
   ]
  },
  {
   "cell_type": "code",
   "execution_count": 20,
   "metadata": {
    "collapsed": true
   },
   "outputs": [],
   "source": [
    "# Load the min and max in case we use them to fit the Lorenz curve\n",
    "sample_max_ppp_given = d['sample']['month_max']\n",
    "sample_min_ppp_given = d['sample']['month_min']"
   ]
  },
  {
   "cell_type": "markdown",
   "metadata": {},
   "source": [
    "Gini is calculate directly from from $L(p)$, or perhaps unit record data underlying."
   ]
  },
  {
   "cell_type": "code",
   "execution_count": 21,
   "metadata": {
    "collapsed": false
   },
   "outputs": [
    {
     "name": "stdout",
     "output_type": "stream",
     "text": [
      "\u001b[32mGini:               \tcomputed =       0.3067\tgiven =       0.3069\tdifference = 0.061%\u001b[0m\n"
     ]
    }
   ],
   "source": [
    "# Load the Lorenz curve\n",
    "L = d['lorenz']['L']\n",
    "p = d['lorenz']['p']\n",
    "\n",
    "# We need to add the origin, by definition\n",
    "p = [0.0] + p\n",
    "L = [0.0] + L\n",
    "\n",
    "# We can, if we want, use the sample min and max to add a point to the curve\n",
    "if True:\n",
    "    dp = 1 / d['sample']['N']\n",
    "    dlorenz_at_0 = sample_min_ppp_given/sample_mean_ppp_given\n",
    "    dlorenz_at_1 = sample_max_ppp_given/sample_mean_ppp_given\n",
    "    p_second = 0 + dp\n",
    "    p_penultimate = 1 - dp\n",
    "    L_second = 0 + dlorenz_at_0 * dp\n",
    "    L_penultimate = 1 - dlorenz_at_1 * dp\n",
    "    p = [0.0, p_second] + p[1:-1] + [p_penultimate, 1.0]\n",
    "    L = [0.0, L_second] + L[1:-1] + [L_penultimate, 1.0]\n",
    "\n",
    "lorenz = pd.DataFrame({'p': p, 'L': L})\n",
    "\n",
    "lorenz['dp'] = lorenz.p.shift(-1)[:-1] - lorenz.p[:-1]\n",
    "lorenz['dL'] = lorenz.L.shift(-1)[:-1] - lorenz.L[:-1]\n",
    "lorenz['dLdp'] = lorenz.dL / lorenz.dp\n",
    "\n",
    "# Now, F(y) = inverse of Q(p)\n",
    "lorenz['y'] = lorenz.dLdp * sample_mean_ppp_given\n",
    "\n",
    "# Calc and compare Ginis\n",
    "G_calc = 1 - sum(0.5 * lorenz.dp[:-1] * (lorenz.L.shift(-1)[:-1] + lorenz.L[:-1])) / 0.5\n",
    "G_given = d['dist']['Gini']\n",
    "myassert(\"Gini:\",G_calc, G_given)\n"
   ]
  },
  {
   "cell_type": "markdown",
   "metadata": {},
   "source": [
    "Estimating tail statistics, like headcount poverty, is a little harder. Povcalnet likely uses the underlying unit record data, and the 100 point Lorenz curve is likely too coarse to get a comparable result. So at this step we fit a model of the Lorenz curve using splines.\n",
    "\n",
    "We use weights to gently encourage the optimization to fit better at the minimum and maximum incomes, and to the first 10% of Lorenz points (to upweight the left tail fit). Unfortunately very large weights tend to produce spurious peaks in the PDF as the algorithm tries to fit the tails, so we sacrifice the tails to avoid this. It's more of a suggestion than a constraint :-)"
   ]
  },
  {
   "cell_type": "code",
   "execution_count": 22,
   "metadata": {
    "collapsed": false
   },
   "outputs": [
    {
     "data": {
      "image/png": "[encoded data removed]",
      "text/plain": [
       "<matplotlib.figure.Figure at 0x10d83efd0>"
      ]
     },
     "metadata": {},
     "output_type": "display_data"
    }
   ],
   "source": [
    "##########################################\n",
    "plt.rcParams[\"figure.figsize\"] = (12,2.5)\n",
    "fig, ax = plt.subplots(1, 4)\n",
    "##########################################\n",
    "\n",
    "thehead = int(len(lorenz)*0.1)\n",
    "themiddle = len(lorenz) - thehead - 2 - 2\n",
    "lorenz.w = ([100, 100] + [10] * thehead) + ([1] * themiddle) + [1, 1]\n",
    "#lorenz.w = [10]*thehead + [1]*(len(lorenz)-thehead)\n",
    "\n",
    "lorenz_interp = scipy.interpolate.UnivariateSpline(lorenz.p,lorenz.L,w=lorenz.w,k=5,s=1e-7)\n",
    "quantile = lambda p: sample_mean_ppp_given * lorenz_interp.derivative()(p)\n",
    "cdf = inverse(quantile)\n",
    "pdf = derivative(cdf)\n",
    "\n",
    "pgrid = np.linspace(0, 1, 1000)\n",
    "ax[0].plot(pgrid, lorenz_interp(pgrid))\n",
    "ax[1].plot(pgrid, quantile(pgrid))\n",
    "\n",
    "ygrid = np.linspace(0, quantile(0.97), 1000)\n",
    "ax[2].plot(ygrid, cdf(ygrid))\n",
    "ax[3].plot(ygrid, pdf(ygrid));"
   ]
  },
  {
   "cell_type": "markdown",
   "metadata": {},
   "source": [
    "Although the sample extrema only say a little about the population extrema, it's interesting to see how they compare with those implied by the spline fit. It is technically disqualifying, but not surprising, if the sample extrema lie outside those from the fit.\n",
    "\n",
    "If the natural computed maximum is less than the given, we want to use the upper weights. If not, it's better not to as this will force _down_ the maximum which might result in an ill-formed distribution. A good strategy would be to fit once without weights, then choose the weights depending on how the extrema look."
   ]
  },
  {
   "cell_type": "code",
   "execution_count": 23,
   "metadata": {
    "collapsed": false
   },
   "outputs": [
    {
     "name": "stdout",
     "output_type": "stream",
     "text": [
      "\u001b[33mMinimum             \tcomputed =       31.981\tgiven =       30.481\tdifference = 4.922%\u001b[0m\n",
      "\u001b[31mMaximum             \tcomputed =      15578.8\tgiven =       4881.0\tdifference = 219.172%\u001b[0m\n",
      "\u001b[33mMinimum / mean      \tcomputed =       0.2377\tgiven =       0.2266\tdifference = 4.922%\u001b[0m\n"
     ]
    }
   ],
   "source": [
    "myassert(\"Minimum\",quantile(0),sample_min_ppp_given)\n",
    "myassert(\"Maximum\",quantile(1),sample_max_ppp_given)\n",
    "myassert(\"Minimum / mean\",quantile(0)/sample_mean_ppp_given,sample_min_ppp_given/sample_mean_ppp_given)"
   ]
  },
  {
   "cell_type": "code",
   "execution_count": 24,
   "metadata": {
    "collapsed": false
   },
   "outputs": [
    {
     "name": "stdout",
     "output_type": "stream",
     "text": [
      "\u001b[32mHC                  \tcomputed =      0.06052\tgiven =      0.06067\tdifference = 0.26%\u001b[0m\n"
     ]
    }
   ],
   "source": [
    "HC_calc = float(cdf(line_month_ppp_given))\n",
    "HC_given = float(d['dist']['HC'])\n",
    "myassert(\"HC\",HC_calc,HC_given)"
   ]
  },
  {
   "cell_type": "markdown",
   "metadata": {},
   "source": [
    "The FGT2 index is very sensitive to distribution, and neither method reproduces the Povcalnet statistic well."
   ]
  },
  {
   "cell_type": "code",
   "execution_count": 25,
   "metadata": {
    "collapsed": false
   },
   "outputs": [
    {
     "name": "stdout",
     "output_type": "stream",
     "text": [
      "\u001b[32mPG direct           \tcomputed =     0.008723\tgiven =     0.008723\tdifference = 0.005%\u001b[0m\n",
      "\u001b[32mPG model            \tcomputed =     0.008708\tgiven =     0.008723\tdifference = 0.171%\u001b[0m\n",
      "\u001b[33mFGT2 direct         \tcomputed =     0.001973\tgiven =     0.002026\tdifference = 2.655%\u001b[0m\n",
      "\u001b[32mFGT2 model simulated\tcomputed =     0.002024\tgiven =     0.002026\tdifference = 0.121%\u001b[0m\n"
     ]
    }
   ],
   "source": [
    "# Poverty gap\n",
    "lorenz['PG'] =  (line_month_ppp_given - lorenz.y) / line_month_ppp_given\n",
    "lorenz.PG[lorenz.PG < 0] = 0\n",
    "\n",
    "PG_direct = sum(lorenz.PG[:-1] * lorenz.dp[:-1])\n",
    "PG_f = lambda y: pdf(y) * (line_month_ppp_given - y) # PL * Q(PL) - mu * L(Q(PL))\n",
    "PG_model = (line_month_ppp_given * cdf(line_month_ppp_given) - sample_mean_ppp_given * lorenz_interp(cdf(line_month_ppp_given)) ) / line_month_ppp_given \n",
    "PG_given = d['dist']['PG']\n",
    "myassert(\"PG direct\",PG_direct,PG_given)\n",
    "myassert(\"PG model\",PG_model,PG_given)\n",
    "\n",
    "# Poverty gap squared (FGT2)\n",
    "lorenz.FGT2 = lorenz.PG * lorenz.PG\n",
    "FGT2_direct = sum(lorenz.FGT2[:-1] * lorenz.dp[:-1])\n",
    "\n",
    "# Numerical integration doesn't work great for second moments so we simulate\n",
    "M = 100000\n",
    "FGT2_sim = 0\n",
    "Watts_sim = 0\n",
    "#bottom = cdf(sample_min_ppp_given)\n",
    "bottom = 0.0\n",
    "top = cdf(line_month_ppp_given)\n",
    "for m in range(M):\n",
    "    sim_y = quantile(np.random.uniform(bottom, top))\n",
    "    FGT2_sim += (line_month_ppp_given - sim_y)**2 / line_month_ppp_given**2\n",
    "    Watts_sim += np.log(line_month_ppp_given / sim_y)\n",
    "FGT2_sim /= (M / cdf(line_month_ppp_given))\n",
    "Watts_sim /= (M / cdf(line_month_ppp_given))\n",
    "\n",
    "FGT2_given = d['dist']['FGT2']\n",
    "myassert(\"FGT2 direct\",FGT2_direct,FGT2_given)\n",
    "myassert(\"FGT2 model simulated\",FGT2_sim,FGT2_given)"
   ]
  },
  {
   "cell_type": "code",
   "execution_count": 26,
   "metadata": {
    "collapsed": false
   },
   "outputs": [
    {
     "name": "stdout",
     "output_type": "stream",
     "text": [
      "\u001b[32mMedian direct       \tcomputed =        110.4\tgiven =       109.85\tdifference = 0.503%\u001b[0m\n",
      "\u001b[32mMedian model        \tcomputed =       109.79\tgiven =       109.85\tdifference = 0.052%\u001b[0m\n"
     ]
    }
   ],
   "source": [
    "# Median\n",
    "median_calc = lorenz.y[(lorenz.p - 0.5).abs().argmin()]\n",
    "median_interp_calc = quantile(0.5)\n",
    "median_given = d['dist']['median_ppp']\n",
    "myassert(\"Median direct\",median_calc,median_given)\n",
    "myassert(\"Median model\",median_interp_calc,median_given)"
   ]
  },
  {
   "cell_type": "markdown",
   "metadata": {},
   "source": [
    "Errors here usually mean the distributions are not well specified."
   ]
  },
  {
   "cell_type": "code",
   "execution_count": 27,
   "metadata": {
    "collapsed": false
   },
   "outputs": [
    {
     "name": "stdout",
     "output_type": "stream",
     "text": [
      "\u001b[32mMLD direct          \tcomputed =       0.1539\tgiven =       0.1548\tdifference = 0.547%\u001b[0m\n",
      "\u001b[33mMLD model simulated \tcomputed =       0.1527\tgiven =       0.1548\tdifference = 1.345%\u001b[0m\n",
      "\u001b[32mWatts direct        \tcomputed =      0.00995\tgiven =      0.01001\tdifference = 0.6%\u001b[0m\n",
      "\u001b[32mWatts model simulated\tcomputed =         0.01\tgiven =      0.01001\tdifference = 0.041%\u001b[0m\n"
     ]
    }
   ],
   "source": [
    "# Mean log deviation (MLD)\n",
    "lorenz.LD = np.log(sample_mean_ppp_given) - np.log(lorenz.y)\n",
    "MLD_calc = sum(lorenz.LD[:-1] * lorenz.dp[:-1])\n",
    "\n",
    "# Numerical integration doesn't work great for weird things so we simulate\n",
    "M = 100000\n",
    "MLD_sim = 0\n",
    "for m in range(M):\n",
    "    sim_y = quantile(np.random.uniform(0, 1))\n",
    "    increment = np.log(sample_mean_ppp_given / sim_y)\n",
    "    MLD_sim += increment\n",
    "MLD_sim /= M\n",
    "\n",
    "MLD_given = d['dist']['MLD']\n",
    "myassert(\"MLD direct\",MLD_calc,MLD_given)\n",
    "myassert(\"MLD model simulated\",MLD_sim,MLD_given)\n",
    "\n",
    "# Watts index\n",
    "lorenz.Watts = np.log(line_month_ppp_given) - np.log(lorenz.y)\n",
    "lorenz.Watts[lorenz.Watts < 0] = 0\n",
    "Watts_calc = sum(lorenz.Watts[:-1] * lorenz.dp[:-1])\n",
    "# Watts_sim simulated above with FGT2\n",
    "Watts_given = d['dist']['Watt']\n",
    "myassert(\"Watts direct\",Watts_calc,Watts_given)\n",
    "myassert(\"Watts model simulated\",Watts_sim,Watts_given)"
   ]
  },
  {
   "cell_type": "code",
   "execution_count": null,
   "metadata": {
    "collapsed": true
   },
   "outputs": [],
   "source": []
  }
 ],
 "metadata": {
  "kernelspec": {
   "display_name": "Python 3",
   "language": "python",
   "name": "python3"
  },
  "language_info": {
   "codemirror_mode": {
    "name": "ipython",
    "version": 3
   },
   "file_extension": ".py",
   "mimetype": "text/x-python",
   "name": "python",
   "nbconvert_exporter": "python",
   "pygments_lexer": "ipython3",
   "version": "3.5.2"
  }
 },
 "nbformat": 4,
 "nbformat_minor": 1
}
