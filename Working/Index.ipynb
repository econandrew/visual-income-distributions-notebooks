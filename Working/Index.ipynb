{
 "cells": [
  {
   "cell_type": "markdown",
   "metadata": {},
   "source": [
    "# Index\n",
    "\n",
    "## Introductory materials\n",
    "\n",
    "1. [Theory](./1-theory.ipynb)\n",
    "2. [Piecewise Lorenz curves](./2-empirical-piecewise.ipynb)\n",
    "\n",
    "## Checking how PovCalNet works now\n",
    "\n",
    "1. [For unit record data](./A-Check PovCalNet Empirical.ipynb)\n",
    "2. [For grouped data](./B-Check PovCalNet Modelled.ipynb)\n",
    "\n",
    "## Estimating a continuous density from grouped data\n",
    "\n",
    "### Python modules\n",
    "\n",
    "1. [utils.py](./utils.py) - some functional numerical routines to generate derivatives, integrals, inverses plus misc useful functions\n",
    "2. [models.py](./models.py) - the actual model code, which is used in multiple notebooks\n",
    "\n",
    "### Notebooks\n",
    "\n",
    "## Efficient representation of a continuous density"
   ]
  },
  {
   "cell_type": "code",
   "execution_count": null,
   "metadata": {
    "collapsed": true
   },
   "outputs": [],
   "source": []
  }
 ],
 "metadata": {
  "kernelspec": {
   "display_name": "Python 3",
   "language": "python",
   "name": "python3"
  },
  "language_info": {
   "codemirror_mode": {
    "name": "ipython",
    "version": 3
   },
   "file_extension": ".py",
   "mimetype": "text/x-python",
   "name": "python",
   "nbconvert_exporter": "python",
   "pygments_lexer": "ipython3",
   "version": "3.5.2"
  }
 },
 "nbformat": 4,
 "nbformat_minor": 1
}
