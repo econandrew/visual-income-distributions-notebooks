{
 "cells": [
  {
   "cell_type": "markdown",
   "metadata": {},
   "source": [
    "# Computation\n",
    "\n",
    "We should minimize the amount of smoothing done client-side in D3, since this is harder to control and we probably have fewer options. We should precompute, for each country-year.\n",
    "- Lorenz on a standard grid (0.0, 1.0, 1000 steps).\n",
    "- CDF on a set of standard linear grids (0, 10000, 1000 steps) or (0, 100000, 1000 steps)\n",
    "- CDF on a standard log grid (0, 100000, 1000 steps)\n",
    "- PDF of a set of standard linear grids as CDF\n",
    "    - smoothed version of same\n",
    "- PDF on a standard log grid (log(1)=0, log(100000)=5, 1000 steps)\n",
    "    - smoothed version of same\n",
    "    "
   ]
  },
  {
   "cell_type": "code",
   "execution_count": 1,
   "metadata": {
    "collapsed": false
   },
   "outputs": [],
   "source": [
    "%matplotlib inline\n",
    "from IPython.core.interactiveshell import InteractiveShell\n",
    "InteractiveShell.ast_node_interactivity = \"last_expr\"\n",
    "\n",
    "import matplotlib.pyplot as plt\n",
    "import numpy as np\n",
    "import pandas as pd"
   ]
  },
  {
   "cell_type": "code",
   "execution_count": 6,
   "metadata": {
    "collapsed": false
   },
   "outputs": [],
   "source": [
    "import glob\n",
    "import json\n",
    "\n",
    "import numpy as np\n",
    "import pandas as pd\n",
    "import scipy.interpolate\n",
    "\n",
    "import wbdata\n",
    "import datetime\n",
    "\n",
    "DAYS_PER_MONTH = 365.0/12.0\n",
    "\n",
    "def coarsen(df, points, maintain_endpoints = True):\n",
    "    nrows = max(df.count(0))\n",
    "    stepsize = max(int(nrows/points),1)\n",
    "    out = df.copy().iloc[::stepsize,:]\n",
    "    \n",
    "    # If we should maintain the endpoints, substitute the last regular point for the endpoint\n",
    "    # (may be the same point if we're lucky)\n",
    "    if maintain_endpoints:\n",
    "        out = out[0:-1].append(df.tail(1))\n",
    "    return out\n",
    "\n",
    "def lag0(x, lags=1):\n",
    "    return x.shift(lags).fillna(0)\n",
    "\n",
    "def lorenz_to_cdf_cubic(L, mean, minimum, maximum, derive_bounds = False):\n",
    "    dL = (L.L - lag0(L.L)) / (L.p - lag0(L.p))\n",
    "    y = mean * dL\n",
    "    p = (L.p + lag0(L.p))/2\n",
    "    if minimum:\n",
    "        y = np.hstack((minimum, y))\n",
    "        p = np.hstack((0.0,p))\n",
    "    if maximum:\n",
    "        y = np.hstack((y, maximum))\n",
    "        p = np.hstack((p,1.0))\n",
    "    #print(np.vstack((y, p)))\n",
    "    cdf = scipy.interpolate.CubicSpline(y, p, bc_type=\"clamped\", extrapolate=0)#((2,0.0),(1, 0.0)), extrapolate=0)\n",
    "    #cdf = scipy.interpolate.PchipInterpolator(y, p, extrapolate=False)\n",
    "    minimum = mean * float(dL.head(1))\n",
    "    maximum = mean * float(dL.tail(1))\n",
    "    \n",
    "    if derive_bounds:\n",
    "        return cdf, (minimum, maximum)\n",
    "    else:\n",
    "        return cdf\n",
    "    \n",
    "def lorenz_cubic(L, minimum=0, maximum=1e4):\n",
    "    Lc = scipy.interpolate.CubicSpline(\n",
    "        np.hstack((0, L.p)),\n",
    "        np.hstack((0, L.L)),\n",
    "        bc_type=((2, 0),(2, 0)),\n",
    "        extrapolate=0)\n",
    "    return Lc\n",
    "\n",
    "\n",
    "def inverse_of_scalar(f, x, a=1e-6, b=1-1e-6):\n",
    "    try:\n",
    "        return scipy.optimize.brentq(lambda y: f(y)-x, a, b)\n",
    "    except ValueError:\n",
    "        return float(\"NaN\")\n",
    "\n",
    "inverse_of = np.vectorize(inverse_of_scalar, excluded=('f','a','b'))\n",
    "\n",
    "class IncomeDistribution(object):\n",
    "    def __init__(self, raw_json_fn):\n",
    "        with open(raw_json_fn) as f:\n",
    "            self.data = json.load(f)\n",
    "            \n",
    "        self.cc3 = self.data['dataset']['iso3c']\n",
    "        self.year = self.data['dataset']['year']\n",
    "        self.mean_ppp_day = self.data['summary']['mean_month_ppp'] / DAYS_PER_MONTH\n",
    "        self.min_ppp_day = self.data['sample']['month_min'] / DAYS_PER_MONTH if 'sample' in self.data else None\n",
    "        self.max_ppp_day = self.data['sample']['month_max'] / DAYS_PER_MONTH if 'sample' in self.data else None\n",
    "        self.lorenz = pd.DataFrame(self.data['lorenz'], index=None)\n",
    "        self.init_interpolation()\n",
    "        self.fetch_wdi_data()\n",
    "\n",
    "    def init_interpolation(self):\n",
    "        # Empirical CDF & PDF\n",
    "        self.cdf, (self.min_ppp_day, self_max_ppp_day) = lorenz_to_cdf_cubic(self.lorenz, self.mean_ppp_day, self.min_ppp_day, self.max_ppp_day, True)\n",
    "        self.pdf = self.cdf.derivative()\n",
    "        \n",
    "        # Smoothed (coarsened) CDF & PDF\n",
    "        self.lorenz_smooth = coarsen(self.lorenz, 15)\n",
    "        self.cdf_smooth = lorenz_to_cdf_cubic(self.lorenz_smooth, self.mean_ppp_day,  None, None)\n",
    "        self.pdf_smooth = self.cdf_smooth.derivative()\n",
    "        \n",
    "    def fetch_wdi_data(self):\n",
    "        self.population = float(wbdata.get_data(\n",
    "            country = self.cc3,\n",
    "            data_date = datetime.datetime(self.year, 1, 1),\n",
    "            indicator = \"SP.POP.TOTL\"\n",
    "        )[0]['value'])\n",
    "        \n",
    "        self.region_wb = wbdata.get_country(country_id = self.cc3, display=False)[0]['region']['id']\n",
    "\n",
    "    def save_computed_json(self, out_json_fn):\n",
    "        grid = np.arange(self.min_ppp_day, self.max_ppp_day, 0.1)\n",
    "        gridlist = grid.tolist()\n",
    "        \n",
    "        out_json = {\n",
    "            #'cdf': { 'x': self.cdf.x.tolist(), 'c': self.cdf.c.tolist() },\n",
    "            'cdf_smooth': { 'x': self.cdf_smooth.x.tolist(), 'c': self.cdf_smooth.c.T.tolist() },\n",
    "        }\n",
    "        with open(out_json_fn, 'w') as f:\n",
    "            json.dump(out_json, f)\n",
    "            \n",
    "    def pdf_smooth_semilog(self, y):\n",
    "        return y*self.pdf_smooth(y)\n",
    "    \n",
    "    def pdf_semilog(self, y):\n",
    "        return y*self.pdf(y)\n",
    "    \n",
    "class LorenzIncomeDistribution(IncomeDistribution):\n",
    "    def __init__(self, raw_json_fn):\n",
    "        super().__init__(raw_json_fn)\n",
    "        \n",
    "    def init_interpolation(self):\n",
    "        rel_min = self.min_ppp_day / self.mean_ppp_day if self.min_ppp_day else None\n",
    "        rel_max = self.max_ppp_day / self.mean_ppp_day if self.max_ppp_day else None\n",
    "        \n",
    "        # Empirical CDF & PDF\n",
    "        self.Lc = lorenz_cubic(self.lorenz, rel_min, rel_max)\n",
    "        self.cdf_inv = lambda p: self.mean_ppp_day * scipy.misc.derivative(self.Lc, p, dx=1e-6) \n",
    "        self.cdf = lambda y: inverse_of(self.cdf_inv, y)\n",
    "        self.pdf = lambda y: scipy.misc.derivative(self.cdf, y, dx=1e-6)\n",
    "        \n",
    "        # Smoothed (coarsened) CDF & PDF\n",
    "        self.lorenz_smooth = coarsen(self.lorenz, 15)\n",
    "        self.Lc_smooth = lorenz_cubic(self.lorenz_smooth, rel_min, rel_max)\n",
    "        self.cdf_inv_smooth = lambda p: self.mean_ppp_day * scipy.misc.derivative(self.Lc_smooth, p, dx=1e-6) \n",
    "        self.cdf_smooth = lambda y: inverse_of(self.cdf_inv_smooth, y)\n",
    "        self.pdf_smooth = lambda y: scipy.misc.derivative(self.cdf_smooth, y, dx=1e-6)        \n",
    "        \n",
    "    def save_computed_json(self, out_json_fn):\n",
    "        pass\n"
   ]
  },
  {
   "cell_type": "code",
   "execution_count": 7,
   "metadata": {
    "collapsed": false
   },
   "outputs": [
    {
     "name": "stdout",
     "output_type": "stream",
     "text": [
      "../jsoncache/AGO_2_2000.21.json `x` must be strictly increasing sequence.\n",
      "../jsoncache/ARG_2_1992.json `x` must contain only finite values.\n",
      "../jsoncache/ARG_2_1993.json `x` must contain only finite values.\n",
      "../jsoncache/ARG_2_1994.json `x` must contain only finite values.\n",
      "../jsoncache/ARG_2_1995.json `x` must contain only finite values.\n",
      "../jsoncache/ARG_2_1996.json `x` must contain only finite values.\n",
      "../jsoncache/ARG_2_1997.json `x` must contain only finite values.\n",
      "../jsoncache/ARG_2_1998.json `x` must contain only finite values.\n",
      "../jsoncache/ARG_2_1999.json `x` must contain only finite values.\n",
      "../jsoncache/ARG_2_2000.json `x` must contain only finite values.\n",
      "../jsoncache/ARG_2_2001.json `x` must contain only finite values.\n",
      "../jsoncache/ARG_2_2002.json `x` must contain only finite values.\n",
      "../jsoncache/ARG_2_2003.json `x` must contain only finite values.\n",
      "../jsoncache/ARG_2_2007.json `x` must contain only finite values.\n",
      "../jsoncache/AUS_3_1981.json `x` must be strictly increasing sequence.\n",
      "../jsoncache/AUS_3_1985.json `x` must be strictly increasing sequence.\n",
      "../jsoncache/AZE_3_1995.json `x` must be strictly increasing sequence.\n",
      "../jsoncache/AZE_3_2001.json `x` must be strictly increasing sequence.\n",
      "../jsoncache/AZE_3_2002.json `x` must be strictly increasing sequence.\n",
      "../jsoncache/AZE_3_2003.json `x` must be strictly increasing sequence.\n",
      "../jsoncache/AZE_3_2004.json `x` must be strictly increasing sequence.\n",
      "../jsoncache/AZE_3_2005.json `x` must be strictly increasing sequence.\n",
      "../jsoncache/BGD_3_1995.5.json `x` must be strictly increasing sequence.\n",
      "../jsoncache/BGR_3_1995.json `x` must be strictly increasing sequence.\n",
      "../jsoncache/BLR_3_1998.json `x` must be strictly increasing sequence.\n",
      "../jsoncache/BLR_3_1999.json `x` must be strictly increasing sequence.\n",
      "../jsoncache/BLR_3_2000.json `x` must be strictly increasing sequence.\n",
      "../jsoncache/BLR_3_2001.json `x` must be strictly increasing sequence.\n",
      "../jsoncache/BLR_3_2002.json `x` must be strictly increasing sequence.\n",
      "../jsoncache/BLR_3_2004.json `x` must be strictly increasing sequence.\n",
      "../jsoncache/BLR_3_2010.json `x` must be strictly increasing sequence.\n",
      "../jsoncache/BLR_3_2013.json `x` must be strictly increasing sequence.\n",
      "../jsoncache/BLR_3_2014.json `x` must be strictly increasing sequence.\n",
      "../jsoncache/BOL_3_1997.json `x` must contain only finite values.\n",
      "../jsoncache/BOL_3_2000.json `x` must contain only finite values.\n",
      "../jsoncache/BRA_3_1995.json `x` must contain only finite values.\n",
      "../jsoncache/BRA_3_2002.json `x` must contain only finite values.\n",
      "../jsoncache/BRA_3_2003.json `x` must contain only finite values.\n",
      "../jsoncache/BRA_3_2005.json `x` must contain only finite values.\n",
      "../jsoncache/BRA_3_2008.json `x` must be strictly increasing sequence.\n",
      "../jsoncache/BRA_3_2011.json `x` must be strictly increasing sequence.\n",
      "../jsoncache/BRA_3_2013.json `x` must contain only finite values.\n",
      "../jsoncache/BRA_3_2014.json `x` must contain only finite values.\n",
      "../jsoncache/CAN_3_1981.json `x` must be strictly increasing sequence.\n",
      "../jsoncache/CHL_3_1987.json `x` must be strictly increasing sequence.\n",
      "../jsoncache/CHN_5_2008.json `x` must be strictly increasing sequence.\n",
      "../jsoncache/CHN_5_2012.json `x` must be strictly increasing sequence.\n",
      "../jsoncache/CIV_3_1985.08.json `x` must be strictly increasing sequence.\n",
      "../jsoncache/CIV_3_1986.08.json `x` must be strictly increasing sequence.\n",
      "../jsoncache/CIV_3_1987.17.json `x` must be strictly increasing sequence.\n",
      "../jsoncache/CIV_3_1988.33.json `x` must be strictly increasing sequence.\n",
      "../jsoncache/CIV_3_1998.json `x` must contain only finite values.\n",
      "../jsoncache/CIV_3_2002.json `x` must contain only finite values.\n",
      "../jsoncache/CIV_3_2008.json `x` must contain only finite values.\n",
      "../jsoncache/COL_3_1992.json `x` must contain only finite values.\n",
      "../jsoncache/COL_3_1996.json `x` must contain only finite values.\n",
      "../jsoncache/COL_3_1999.json `x` must contain only finite values.\n",
      "../jsoncache/COL_3_2000.json `x` must contain only finite values.\n",
      "../jsoncache/COL_3_2001.json `x` must contain only finite values.\n",
      "../jsoncache/CRI_3_1989.json `x` must contain only finite values.\n",
      "../jsoncache/CRI_3_1990.json `x` must contain only finite values.\n",
      "../jsoncache/CRI_3_1991.json `x` must contain only finite values.\n",
      "../jsoncache/CRI_3_1992.json `x` must be strictly increasing sequence.\n",
      "../jsoncache/CRI_3_1993.json `x` must contain only finite values.\n",
      "../jsoncache/CRI_3_1994.json `x` must be strictly increasing sequence.\n",
      "../jsoncache/CRI_3_1995.json `x` must be strictly increasing sequence.\n",
      "../jsoncache/CRI_3_1996.json `x` must be strictly increasing sequence.\n",
      "../jsoncache/CRI_3_1998.json `x` must be strictly increasing sequence.\n",
      "../jsoncache/CRI_3_1999.json `x` must be strictly increasing sequence.\n",
      "../jsoncache/CRI_3_2000.json `x` must be strictly increasing sequence.\n",
      "../jsoncache/CRI_3_2001.json `x` must contain only finite values.\n",
      "../jsoncache/DOM_3_1996.json `x` must be strictly increasing sequence.\n",
      "../jsoncache/DOM_3_1997.json `x` must be strictly increasing sequence.\n",
      "../jsoncache/ECU_2_1995.json `x` must contain only finite values.\n",
      "../jsoncache/ECU_3_1998.json `x` must contain only finite values.\n",
      "../jsoncache/ECU_3_2000.json `x` must contain only finite values.\n",
      "../jsoncache/GHA_3_1991.73.json `x` must be strictly increasing sequence.\n",
      "../jsoncache/GHA_3_1998.18.json `x` must be strictly increasing sequence.\n",
      "../jsoncache/GIN_3_1994.08.json `x` must be strictly increasing sequence.\n",
      "../jsoncache/GIN_3_2002.25.json `x` must be strictly increasing sequence.\n",
      "../jsoncache/GNB_3_1993.json `x` must be strictly increasing sequence.\n",
      "../jsoncache/GNB_3_2010.json `x` must contain only finite values.\n",
      "../jsoncache/HND_3_1992.json `x` must be strictly increasing sequence.\n",
      "../jsoncache/HND_3_1993.json `x` must contain only finite values.\n",
      "../jsoncache/HND_3_1994.json `x` must be strictly increasing sequence.\n",
      "../jsoncache/HND_3_1998.json `x` must contain only finite values.\n",
      "../jsoncache/HND_3_1999.json `x` must contain only finite values.\n",
      "../jsoncache/HND_3_2002.json `x` must contain only finite values.\n",
      "../jsoncache/IDN_1_1993.json `x` must be strictly increasing sequence.\n",
      "../jsoncache/IDN_2_2002.json `x` must be strictly increasing sequence.\n",
      "../jsoncache/IDN_2_2003.json `x` must be strictly increasing sequence.\n",
      "../jsoncache/IDN_5_1993.json `x` must be strictly increasing sequence.\n",
      "../jsoncache/IDN_5_2013.json `x` must be strictly increasing sequence.\n",
      "../jsoncache/IND_5_2011.5.json `x` must be strictly increasing sequence.\n",
      "../jsoncache/ISR_3_1979.json `x` must be strictly increasing sequence.\n",
      "../jsoncache/ISR_3_1986.json `x` must be strictly increasing sequence.\n",
      "../jsoncache/ISR_3_1992.json `x` must be strictly increasing sequence.\n",
      "../jsoncache/JAM_3_1990.json `x` must be strictly increasing sequence.\n",
      "../jsoncache/JAM_3_1996.json `x` must be strictly increasing sequence.\n",
      "../jsoncache/JAM_3_2004.json `x` must be strictly increasing sequence.\n",
      "../jsoncache/KAZ_3_1996.json `x` must be strictly increasing sequence.\n",
      "../jsoncache/KGZ_3_2000.json `x` must be strictly increasing sequence.\n",
      "../jsoncache/KGZ_3_2001.json `x` must be strictly increasing sequence.\n",
      "../jsoncache/KGZ_3_2002.json `x` must be strictly increasing sequence.\n",
      "../jsoncache/KGZ_3_2003.json `x` must be strictly increasing sequence.\n",
      "../jsoncache/KHM_3_2004.json `x` must be strictly increasing sequence.\n"
     ]
    },
    {
     "ename": "TypeError",
     "evalue": "'NoneType' object is not iterable",
     "output_type": "error",
     "traceback": [
      "\u001b[0;31m---------------------------------------------------------------------------\u001b[0m",
      "\u001b[0;31mTypeError\u001b[0m                                 Traceback (most recent call last)",
      "\u001b[0;32m<ipython-input-7-d501078949e6>\u001b[0m in \u001b[0;36m<module>\u001b[0;34m()\u001b[0m\n\u001b[1;32m      3\u001b[0m     \u001b[0;31m#print(fn)\u001b[0m\u001b[0;34m\u001b[0m\u001b[0;34m\u001b[0m\u001b[0m\n\u001b[1;32m      4\u001b[0m     \u001b[0;32mtry\u001b[0m\u001b[0;34m:\u001b[0m\u001b[0;34m\u001b[0m\u001b[0m\n\u001b[0;32m----> 5\u001b[0;31m         \u001b[0msurvey\u001b[0m \u001b[0;34m=\u001b[0m \u001b[0mIncomeDistribution\u001b[0m\u001b[0;34m(\u001b[0m\u001b[0mfn\u001b[0m\u001b[0;34m)\u001b[0m\u001b[0;34m\u001b[0m\u001b[0m\n\u001b[0m\u001b[1;32m      6\u001b[0m         \u001b[0msurvey\u001b[0m\u001b[0;34m.\u001b[0m\u001b[0msave_computed_json\u001b[0m\u001b[0;34m(\u001b[0m\u001b[0;34m'../computed/{}_{}.json'\u001b[0m\u001b[0;34m.\u001b[0m\u001b[0mformat\u001b[0m\u001b[0;34m(\u001b[0m\u001b[0msurvey\u001b[0m\u001b[0;34m.\u001b[0m\u001b[0mcc3\u001b[0m\u001b[0;34m,\u001b[0m \u001b[0msurvey\u001b[0m\u001b[0;34m.\u001b[0m\u001b[0myear\u001b[0m\u001b[0;34m)\u001b[0m\u001b[0;34m)\u001b[0m\u001b[0;34m\u001b[0m\u001b[0m\n\u001b[1;32m      7\u001b[0m         \u001b[0;32mif\u001b[0m \u001b[0msurvey\u001b[0m\u001b[0;34m.\u001b[0m\u001b[0mcc3\u001b[0m \u001b[0;32mnot\u001b[0m \u001b[0;32min\u001b[0m \u001b[0md\u001b[0m\u001b[0;34m:\u001b[0m\u001b[0;34m\u001b[0m\u001b[0m\n",
      "\u001b[0;32m<ipython-input-6-d8e16531a7f0>\u001b[0m in \u001b[0;36m__init__\u001b[0;34m(self, raw_json_fn)\u001b[0m\n\u001b[1;32m     75\u001b[0m         \u001b[0mself\u001b[0m\u001b[0;34m.\u001b[0m\u001b[0mlorenz\u001b[0m \u001b[0;34m=\u001b[0m \u001b[0mpd\u001b[0m\u001b[0;34m.\u001b[0m\u001b[0mDataFrame\u001b[0m\u001b[0;34m(\u001b[0m\u001b[0mself\u001b[0m\u001b[0;34m.\u001b[0m\u001b[0mdata\u001b[0m\u001b[0;34m[\u001b[0m\u001b[0;34m'lorenz'\u001b[0m\u001b[0;34m]\u001b[0m\u001b[0;34m,\u001b[0m \u001b[0mindex\u001b[0m\u001b[0;34m=\u001b[0m\u001b[0;32mNone\u001b[0m\u001b[0;34m)\u001b[0m\u001b[0;34m\u001b[0m\u001b[0m\n\u001b[1;32m     76\u001b[0m         \u001b[0mself\u001b[0m\u001b[0;34m.\u001b[0m\u001b[0minit_interpolation\u001b[0m\u001b[0;34m(\u001b[0m\u001b[0;34m)\u001b[0m\u001b[0;34m\u001b[0m\u001b[0m\n\u001b[0;32m---> 77\u001b[0;31m         \u001b[0mself\u001b[0m\u001b[0;34m.\u001b[0m\u001b[0mfetch_wdi_data\u001b[0m\u001b[0;34m(\u001b[0m\u001b[0;34m)\u001b[0m\u001b[0;34m\u001b[0m\u001b[0m\n\u001b[0m\u001b[1;32m     78\u001b[0m \u001b[0;34m\u001b[0m\u001b[0m\n\u001b[1;32m     79\u001b[0m     \u001b[0;32mdef\u001b[0m \u001b[0minit_interpolation\u001b[0m\u001b[0;34m(\u001b[0m\u001b[0mself\u001b[0m\u001b[0;34m)\u001b[0m\u001b[0;34m:\u001b[0m\u001b[0;34m\u001b[0m\u001b[0m\n",
      "\u001b[0;32m<ipython-input-6-d8e16531a7f0>\u001b[0m in \u001b[0;36mfetch_wdi_data\u001b[0;34m(self)\u001b[0m\n\u001b[1;32m     91\u001b[0m             \u001b[0mcountry\u001b[0m \u001b[0;34m=\u001b[0m \u001b[0mself\u001b[0m\u001b[0;34m.\u001b[0m\u001b[0mcc3\u001b[0m\u001b[0;34m,\u001b[0m\u001b[0;34m\u001b[0m\u001b[0m\n\u001b[1;32m     92\u001b[0m             \u001b[0mdata_date\u001b[0m \u001b[0;34m=\u001b[0m \u001b[0mdatetime\u001b[0m\u001b[0;34m.\u001b[0m\u001b[0mdatetime\u001b[0m\u001b[0;34m(\u001b[0m\u001b[0mself\u001b[0m\u001b[0;34m.\u001b[0m\u001b[0myear\u001b[0m\u001b[0;34m,\u001b[0m \u001b[0;36m1\u001b[0m\u001b[0;34m,\u001b[0m \u001b[0;36m1\u001b[0m\u001b[0;34m)\u001b[0m\u001b[0;34m,\u001b[0m\u001b[0;34m\u001b[0m\u001b[0m\n\u001b[0;32m---> 93\u001b[0;31m             \u001b[0mindicator\u001b[0m \u001b[0;34m=\u001b[0m \u001b[0;34m\"SP.POP.TOTL\"\u001b[0m\u001b[0;34m\u001b[0m\u001b[0m\n\u001b[0m\u001b[1;32m     94\u001b[0m         )[0]['value'])\n\u001b[1;32m     95\u001b[0m \u001b[0;34m\u001b[0m\u001b[0m\n",
      "\u001b[0;32m/usr/local/lib/python3.5/site-packages/wbdata/api.py\u001b[0m in \u001b[0;36mget_data\u001b[0;34m(indicator, country, data_date, convert_date, pandas, column_name, keep_levels)\u001b[0m\n\u001b[1;32m    165\u001b[0m         \u001b[0;32melse\u001b[0m\u001b[0;34m:\u001b[0m\u001b[0;34m\u001b[0m\u001b[0m\n\u001b[1;32m    166\u001b[0m             \u001b[0margs\u001b[0m\u001b[0;34m.\u001b[0m\u001b[0mappend\u001b[0m\u001b[0;34m(\u001b[0m\u001b[0;34m(\u001b[0m\u001b[0;34m\"date\"\u001b[0m\u001b[0;34m,\u001b[0m \u001b[0mdata_date\u001b[0m\u001b[0;34m.\u001b[0m\u001b[0mstrftime\u001b[0m\u001b[0;34m(\u001b[0m\u001b[0;34m\"%Y\"\u001b[0m\u001b[0;34m)\u001b[0m\u001b[0;34m)\u001b[0m\u001b[0;34m)\u001b[0m\u001b[0;34m\u001b[0m\u001b[0m\n\u001b[0;32m--> 167\u001b[0;31m     \u001b[0mdata\u001b[0m \u001b[0;34m=\u001b[0m \u001b[0mfetcher\u001b[0m\u001b[0;34m.\u001b[0m\u001b[0mfetch\u001b[0m\u001b[0;34m(\u001b[0m\u001b[0mquery_url\u001b[0m\u001b[0;34m,\u001b[0m \u001b[0margs\u001b[0m\u001b[0;34m)\u001b[0m\u001b[0;34m\u001b[0m\u001b[0m\n\u001b[0m\u001b[1;32m    168\u001b[0m     \u001b[0;32mif\u001b[0m \u001b[0mconvert_date\u001b[0m\u001b[0;34m:\u001b[0m\u001b[0;34m\u001b[0m\u001b[0m\n\u001b[1;32m    169\u001b[0m         \u001b[0mdata\u001b[0m \u001b[0;34m=\u001b[0m \u001b[0mconvert_dates_to_datetime\u001b[0m\u001b[0;34m(\u001b[0m\u001b[0mdata\u001b[0m\u001b[0;34m)\u001b[0m\u001b[0;34m\u001b[0m\u001b[0m\n",
      "\u001b[0;32m/usr/local/lib/python3.5/site-packages/wbdata/fetcher.py\u001b[0m in \u001b[0;36mfetch\u001b[0;34m(query_url, args, cached)\u001b[0m\n\u001b[1;32m    166\u001b[0m         \u001b[0;32mif\u001b[0m \u001b[0mresponse\u001b[0m \u001b[0;32mis\u001b[0m \u001b[0;32mNone\u001b[0m\u001b[0;34m:\u001b[0m\u001b[0;34m\u001b[0m\u001b[0m\n\u001b[1;32m    167\u001b[0m             \u001b[0;32mraise\u001b[0m \u001b[0mValueError\u001b[0m\u001b[0;34m(\u001b[0m\u001b[0;34m\"Got no response\"\u001b[0m\u001b[0;34m)\u001b[0m\u001b[0;34m\u001b[0m\u001b[0m\n\u001b[0;32m--> 168\u001b[0;31m         \u001b[0mresults\u001b[0m\u001b[0;34m.\u001b[0m\u001b[0mextend\u001b[0m\u001b[0;34m(\u001b[0m\u001b[0mresponse\u001b[0m\u001b[0;34m[\u001b[0m\u001b[0;36m1\u001b[0m\u001b[0;34m]\u001b[0m\u001b[0;34m)\u001b[0m\u001b[0;34m\u001b[0m\u001b[0m\n\u001b[0m\u001b[1;32m    169\u001b[0m         \u001b[0mthis_page\u001b[0m \u001b[0;34m=\u001b[0m \u001b[0mresponse\u001b[0m\u001b[0;34m[\u001b[0m\u001b[0;36m0\u001b[0m\u001b[0;34m]\u001b[0m\u001b[0;34m[\u001b[0m\u001b[0;34m'page'\u001b[0m\u001b[0;34m]\u001b[0m\u001b[0;34m\u001b[0m\u001b[0m\n\u001b[1;32m    170\u001b[0m         \u001b[0mpages\u001b[0m \u001b[0;34m=\u001b[0m \u001b[0mresponse\u001b[0m\u001b[0;34m[\u001b[0m\u001b[0;36m0\u001b[0m\u001b[0;34m]\u001b[0m\u001b[0;34m[\u001b[0m\u001b[0;34m'pages'\u001b[0m\u001b[0;34m]\u001b[0m\u001b[0;34m\u001b[0m\u001b[0m\n",
      "\u001b[0;31mTypeError\u001b[0m: 'NoneType' object is not iterable"
     ]
    }
   ],
   "source": [
    "d = dict()\n",
    "for fn in glob.glob('../jsoncache/*.json'):\n",
    "    #print(fn)\n",
    "    try:\n",
    "        survey = IncomeDistribution(fn)\n",
    "        survey.save_computed_json('../computed/{}_{}.json'.format(survey.cc3, survey.year))\n",
    "        if survey.cc3 not in d:\n",
    "            d[survey.cc3] = dict()\n",
    "        d[survey.cc3][survey.year] = survey\n",
    "    except (ValueError, KeyError) as e:\n",
    "        print(fn, e)"
   ]
  },
  {
   "cell_type": "code",
   "execution_count": null,
   "metadata": {
    "collapsed": false
   },
   "outputs": [],
   "source": [
    "d"
   ]
  },
  {
   "cell_type": "code",
   "execution_count": 8,
   "metadata": {
    "collapsed": false
   },
   "outputs": [
    {
     "data": {
      "text/plain": [
       "{'AGO': 2008,\n",
       " 'ALB': 2012,\n",
       " 'ARG': 2014,\n",
       " 'ARM': 2014,\n",
       " 'AUS': 2010,\n",
       " 'AUT': 2012,\n",
       " 'AZE': 2008,\n",
       " 'BDI': 2006,\n",
       " 'BEL': 2012,\n",
       " 'BEN': 2011,\n",
       " 'BFA': 2014,\n",
       " 'BGD': 2010,\n",
       " 'BGR': 2012,\n",
       " 'BIH': 2011,\n",
       " 'BLR': 2012,\n",
       " 'BLZ': 1999,\n",
       " 'BOL': 2014,\n",
       " 'BRA': 2012,\n",
       " 'BTN': 2012,\n",
       " 'BWA': 2009,\n",
       " 'CAF': 2008,\n",
       " 'CAN': 2010,\n",
       " 'CHE': 2012,\n",
       " 'CHL': 2013,\n",
       " 'CHN': 2013,\n",
       " 'CIV': 1995,\n",
       " 'CMR': 2014,\n",
       " 'COG': 2011,\n",
       " 'COL': 2014,\n",
       " 'COM': 2004,\n",
       " 'CPV': 2007,\n",
       " 'CRI': 2014,\n",
       " 'CYP': 2012,\n",
       " 'CZE': 2012,\n",
       " 'DEU': 2011,\n",
       " 'DJI': 2013,\n",
       " 'DNK': 2012,\n",
       " 'DOM': 2013,\n",
       " 'ECU': 2014,\n",
       " 'ESP': 2012,\n",
       " 'EST': 2012,\n",
       " 'ETH': 2010,\n",
       " 'FIN': 2012,\n",
       " 'FJI': 2008,\n",
       " 'FRA': 2012,\n",
       " 'FSM': 2013,\n",
       " 'GAB': 2005,\n",
       " 'GBR': 2012,\n",
       " 'GEO': 2014,\n",
       " 'GHA': 2005,\n",
       " 'GIN': 2012,\n",
       " 'GMB': 2003,\n",
       " 'GNB': 2002,\n",
       " 'GRC': 2012,\n",
       " 'GTM': 2014,\n",
       " 'GUY': 1998,\n",
       " 'HND': 2014,\n",
       " 'HRV': 2012,\n",
       " 'HTI': 2012,\n",
       " 'HUN': 2012,\n",
       " 'IDN': 2014,\n",
       " 'IND': 2011,\n",
       " 'IRL': 2012,\n",
       " 'IRN': 2013,\n",
       " 'ISL': 2012,\n",
       " 'ISR': 2010,\n",
       " 'ITA': 2012,\n",
       " 'JAM': 2002,\n",
       " 'JPN': 2008,\n",
       " 'KAZ': 2013,\n",
       " 'KEN': 2005,\n",
       " 'KGZ': 2014,\n",
       " 'KHM': 2012,\n",
       " 'KIR': 2006}"
      ]
     },
     "execution_count": 8,
     "metadata": {},
     "output_type": "execute_result"
    }
   ],
   "source": [
    "#country_years = [('USA', 2010), ('GBR', 2010), ('AUS', 2010), ('MEX', 2010)]\n",
    "latest_country_years = {cc3: max(d[cc3].keys()) for cc3 in d}\n",
    "latest_country_years"
   ]
  },
  {
   "cell_type": "code",
   "execution_count": 9,
   "metadata": {
    "collapsed": false
   },
   "outputs": [
    {
     "data": {
      "text/plain": [
       "4.710805479452055"
      ]
     },
     "execution_count": 9,
     "metadata": {},
     "output_type": "execute_result"
    }
   ],
   "source": [
    "r = d['CHN'][2011]\n",
    "pc = r.lorenz_smooth.p.as_matrix()\n",
    "Lc = r.lorenz_smooth.L.as_matrix()\n",
    "mean = r.mean_ppp_day\n",
    "\n",
    "dL = np.diff(Lc)\n",
    "dp = np.diff(pc)\n",
    "\n",
    "pmid = np.hstack((0.0, np.add(pc[1:],pc[:-1])/2))\n",
    "\n",
    "y = np.hstack((0.0, mean * dL/dp))\n",
    "mean"
   ]
  },
  {
   "cell_type": "code",
   "execution_count": 10,
   "metadata": {
    "collapsed": false
   },
   "outputs": [
    {
     "name": "stderr",
     "output_type": "stream",
     "text": [
      "/usr/local/lib/python3.5/site-packages/ipykernel/__main__.py:20: RuntimeWarning: invalid value encountered in double_scalars\n",
      "/usr/local/lib/python3.5/site-packages/ipykernel/__main__.py:23: RuntimeWarning: invalid value encountered in double_scalars\n",
      "/usr/local/lib/python3.5/site-packages/ipykernel/__main__.py:26: RuntimeWarning: invalid value encountered in double_scalars\n",
      "/usr/local/lib/python3.5/site-packages/ipykernel/__main__.py:23: RuntimeWarning: overflow encountered in double_scalars\n",
      "/usr/local/lib/python3.5/site-packages/ipykernel/__main__.py:26: RuntimeWarning: overflow encountered in double_scalars\n",
      "/usr/local/lib/python3.5/site-packages/ipykernel/__main__.py:20: RuntimeWarning: invalid value encountered in double_scalars\n",
      "/usr/local/lib/python3.5/site-packages/ipykernel/__main__.py:23: RuntimeWarning: invalid value encountered in double_scalars\n",
      "/usr/local/lib/python3.5/site-packages/ipykernel/__main__.py:26: RuntimeWarning: invalid value encountered in double_scalars\n",
      "/usr/local/lib/python3.5/site-packages/ipykernel/__main__.py:23: RuntimeWarning: overflow encountered in double_scalars\n",
      "/usr/local/lib/python3.5/site-packages/ipykernel/__main__.py:26: RuntimeWarning: overflow encountered in double_scalars\n",
      "/usr/local/lib/python3.5/site-packages/ipykernel/__main__.py:20: RuntimeWarning: invalid value encountered in double_scalars\n",
      "/usr/local/lib/python3.5/site-packages/ipykernel/__main__.py:23: RuntimeWarning: invalid value encountered in double_scalars\n",
      "/usr/local/lib/python3.5/site-packages/ipykernel/__main__.py:23: RuntimeWarning: overflow encountered in double_scalars\n",
      "/usr/local/lib/python3.5/site-packages/ipykernel/__main__.py:26: RuntimeWarning: invalid value encountered in double_scalars\n",
      "/usr/local/lib/python3.5/site-packages/ipykernel/__main__.py:26: RuntimeWarning: overflow encountered in double_scalars\n"
     ]
    },
    {
     "name": "stdout",
     "output_type": "stream",
     "text": [
      "-0.00519586744446 0.244747657131 0.942765458413 5.7953720278\n",
      "(0.010569458830270703, 1.3253497640277839e-09)\n"
     ]
    },
    {
     "name": "stderr",
     "output_type": "stream",
     "text": [
      "/usr/local/lib/python3.5/site-packages/ipykernel/__main__.py:20: RuntimeWarning: invalid value encountered in power\n"
     ]
    },
    {
     "ename": "TypeError",
     "evalue": "'NoneType' object is not subscriptable",
     "output_type": "error",
     "traceback": [
      "\u001b[0;31m---------------------------------------------------------------------------\u001b[0m",
      "\u001b[0;31mTypeError\u001b[0m                                 Traceback (most recent call last)",
      "\u001b[0;32m<ipython-input-10-d50b515fb791>\u001b[0m in \u001b[0;36m<module>\u001b[0;34m()\u001b[0m\n\u001b[1;32m     72\u001b[0m \u001b[0max\u001b[0m\u001b[0;34m[\u001b[0m\u001b[0;36m2\u001b[0m\u001b[0;34m]\u001b[0m\u001b[0;34m.\u001b[0m\u001b[0mplot\u001b[0m\u001b[0;34m(\u001b[0m\u001b[0mygrid\u001b[0m\u001b[0;34m,\u001b[0m \u001b[0mfinal_pdf\u001b[0m\u001b[0;34m(\u001b[0m\u001b[0mygrid\u001b[0m\u001b[0;34m)\u001b[0m\u001b[0;34m)\u001b[0m\u001b[0;34m\u001b[0m\u001b[0m\n\u001b[1;32m     73\u001b[0m \u001b[0;32mimport\u001b[0m \u001b[0mscipy\u001b[0m\u001b[0;34m.\u001b[0m\u001b[0mintegrate\u001b[0m\u001b[0;34m\u001b[0m\u001b[0m\n\u001b[0;32m---> 74\u001b[0;31m \u001b[0mprint\u001b[0m\u001b[0;34m(\u001b[0m\u001b[0mscipy\u001b[0m\u001b[0;34m.\u001b[0m\u001b[0mintegrate\u001b[0m\u001b[0;34m.\u001b[0m\u001b[0mquad\u001b[0m\u001b[0;34m(\u001b[0m\u001b[0mfinal_pdf\u001b[0m\u001b[0;34m,\u001b[0m \u001b[0;36m35.15\u001b[0m\u001b[0;34m,\u001b[0m \u001b[0;36m1e3\u001b[0m\u001b[0;34m)\u001b[0m\u001b[0;34m)\u001b[0m\u001b[0;34m[\u001b[0m\u001b[0;36m0\u001b[0m\u001b[0;34m]\u001b[0m\u001b[0;34m\u001b[0m\u001b[0m\n\u001b[0m",
      "\u001b[0;31mTypeError\u001b[0m: 'NoneType' object is not subscriptable"
     ]
    },
    {
     "data": {
      "image/png": "[encoded data removed]",
      "text/plain": [
       "<matplotlib.figure.Figure at 0x108bb0940>"
      ]
     },
     "metadata": {},
     "output_type": "display_data"
    }
   ],
   "source": [
    "\n",
    "\n",
    "##########################################\n",
    "plt.rcParams[\"figure.figsize\"] = (12,4)\n",
    "fig, ax = plt.subplots(1, 3)\n",
    "##########################################\n",
    "\n",
    "### F(x) = 1 - (x/xm)^a => solve for xm and a\n",
    "p1 = pmid[-2]\n",
    "y1 = y[-2]\n",
    "\n",
    "p2 = pmid[-1]\n",
    "y2 = y[-1]\n",
    "\n",
    "#alpha = (np.log(1-p2) - np.log(1-p1)) / (np.log(y1) - np.log(y2))\n",
    "#ym = np.exp(np.log(y2) + (1/alpha)*np.log(1-p2))\n",
    "#yshift = 0\n",
    "\n",
    "def pareto_cdf(y, ym, alpha, yshift):\n",
    "    return 1 - (ym / (y - yshift))**alpha\n",
    "\n",
    "def pareto_pdf(y, ym, alpha, yshift):\n",
    "    return alpha * ym**alpha / (y - yshift)**(alpha+1)\n",
    "\n",
    "def pareto_pdfderiv(y, ym, alpha, yshift):\n",
    "    return -alpha*(alpha+1) * ym**alpha / (y - yshift)**(alpha+2)\n",
    "\n",
    "def target(parameters):\n",
    "    dd1, ym, alpha, yshift = parameters\n",
    "    dd1 = dd1/100\n",
    "    yshift = yshift*mean\n",
    "\n",
    "    ccubpar_cdf = scipy.interpolate.CubicSpline(y[:-1], pmid[:-1], bc_type=((1, 0.0),(2,dd1)),extrapolate=0)\n",
    "    ccubpar_pdf = ccubpar_cdf.derivative()\n",
    "\n",
    "    err1 = pareto_cdf(y1, ym, alpha, yshift) - p1\n",
    "    err1d = pareto_pdf(y1, ym, alpha, yshift) - ccubpar_pdf(y1)\n",
    "    err1dd = pareto_pdfderiv(y1, ym, alpha, yshift) - ccubpar_pdf.derivative()(y1)\n",
    "    #err1dd = 0\n",
    "    err2 = pareto_cdf(y2, ym, alpha, yshift) - p2\n",
    "    return err1**2 + (err1d*20)**2 + (err1dd*100)**2 + err2**2\n",
    "\n",
    "from scipy.optimize import basinhopping\n",
    "#guess = (-0.000015, 2.85446391657, 0.783499652638, 135.703869627)\n",
    "guess = (0, 1, 1, 1)\n",
    "dd1, ym, alpha, yshift = basinhopping(target, guess).x\n",
    "dd1 = dd1/100\n",
    "yshift = yshift*mean\n",
    "print(dd1, ym, alpha, yshift)\n",
    "\n",
    "ccubpar_cdf = scipy.interpolate.CubicSpline(y[:-1], pmid[:-1], bc_type=((1, 0.0),(2,dd1)),extrapolate=0)\n",
    "ccubpar_pdf = ccubpar_cdf.derivative()\n",
    "d1 = ccubpar_pdf(y1)\n",
    "dd1 = ccubpar_pdf.derivative()(y1)\n",
    "\n",
    "xgrid = np.linspace(0.0, 1.0, 1000)\n",
    "ygrid = np.linspace(0.0, mean*10.0, 1000)\n",
    "\n",
    "ax[0].plot(y, pmid, \".\")\n",
    "ax[0].plot(ygrid, ccubpar_cdf(ygrid), 'b-')\n",
    "ax[1].plot(ygrid, ccubpar_pdf(ygrid), 'b-')\n",
    "\n",
    "ax[0].plot(ygrid, pareto_cdf(ygrid, ym, alpha, yshift), 'r-')\n",
    "ax[0].set_xlim((0,mean*10))\n",
    "ax[0].set_ylim((0, 1.0))\n",
    "\n",
    "ygrid2 = np.linspace(y1, mean*10, 1000)\n",
    "\n",
    "ax[1].plot(ygrid2, pareto_pdf(ygrid2, ym, alpha, yshift), 'r-')\n",
    "\n",
    "final_pdf = np.vectorize(lambda y: ccubpar_pdf(y) if y < y1 else pareto_pdf(y, ym, alpha, yshift))\n",
    "ax[2].plot(ygrid, final_pdf(ygrid))\n",
    "import scipy.integrate\n",
    "print(scipy.integrate.quad(final_pdf, 35.15, 1e3))[0]"
   ]
  },
  {
   "cell_type": "code",
   "execution_count": 11,
   "metadata": {
    "collapsed": false
   },
   "outputs": [
    {
     "ename": "AttributeError",
     "evalue": "'IncomeDistribution' object has no attribute 'cdf_inv'",
     "output_type": "error",
     "traceback": [
      "\u001b[0;31m---------------------------------------------------------------------------\u001b[0m",
      "\u001b[0;31mAttributeError\u001b[0m                            Traceback (most recent call last)",
      "\u001b[0;32m<ipython-input-11-ffa7ec46c94e>\u001b[0m in \u001b[0;36m<module>\u001b[0;34m()\u001b[0m\n\u001b[1;32m      2\u001b[0m \u001b[0mgrid\u001b[0m \u001b[0;34m=\u001b[0m \u001b[0mnp\u001b[0m\u001b[0;34m.\u001b[0m\u001b[0marange\u001b[0m\u001b[0;34m(\u001b[0m\u001b[0;36m0\u001b[0m\u001b[0;34m,\u001b[0m\u001b[0;36m20\u001b[0m\u001b[0;34m,\u001b[0m\u001b[0;36m0.1\u001b[0m\u001b[0;34m)\u001b[0m\u001b[0;34m\u001b[0m\u001b[0m\n\u001b[1;32m      3\u001b[0m \u001b[0;31m#plt.plot(grid,dist.cdf(grid))\u001b[0m\u001b[0;34m\u001b[0m\u001b[0;34m\u001b[0m\u001b[0m\n\u001b[0;32m----> 4\u001b[0;31m \u001b[0mdist\u001b[0m\u001b[0;34m.\u001b[0m\u001b[0mcdf_inv\u001b[0m\u001b[0;34m(\u001b[0m\u001b[0;36m0.5\u001b[0m\u001b[0;34m)\u001b[0m\u001b[0;34m\u001b[0m\u001b[0m\n\u001b[0m\u001b[1;32m      5\u001b[0m \u001b[0;31m#scipy.optimize.brentq(lambda x: dist.cdf_inv(x)-2.806, 1e3, 1-1e3)\u001b[0m\u001b[0;34m\u001b[0m\u001b[0;34m\u001b[0m\u001b[0m\n\u001b[1;32m      6\u001b[0m \u001b[0minverse_of_scalar\u001b[0m\u001b[0;34m(\u001b[0m\u001b[0mdist\u001b[0m\u001b[0;34m.\u001b[0m\u001b[0mcdf_inv\u001b[0m\u001b[0;34m,\u001b[0m \u001b[0;36m2.806\u001b[0m\u001b[0;34m)\u001b[0m\u001b[0;34m\u001b[0m\u001b[0m\n",
      "\u001b[0;31mAttributeError\u001b[0m: 'IncomeDistribution' object has no attribute 'cdf_inv'"
     ]
    }
   ],
   "source": [
    "dist = d['IND'][2011]\n",
    "grid = np.arange(0,20,0.1)\n",
    "#plt.plot(grid,dist.cdf(grid))\n",
    "dist.cdf_inv(0.5)\n",
    "#scipy.optimize.brentq(lambda x: dist.cdf_inv(x)-2.806, 1e3, 1-1e3)\n",
    "inverse_of_scalar(dist.cdf_inv, 2.806)"
   ]
  },
  {
   "cell_type": "code",
   "execution_count": 12,
   "metadata": {
    "collapsed": false
   },
   "outputs": [
    {
     "data": {
      "image/png": "[encoded data removed]",
      "text/plain": [
       "<matplotlib.figure.Figure at 0x109186d68>"
      ]
     },
     "metadata": {},
     "output_type": "display_data"
    },
    {
     "name": "stderr",
     "output_type": "stream",
     "text": [
      "/usr/local/lib/python3.5/site-packages/scipy/integrate/quadpack.py:356: IntegrationWarning: The maximum number of subdivisions (50) has been achieved.\n",
      "  If increasing the limit yields no improvement it is advised to analyze \n",
      "  the integrand in order to determine the difficulties.  If the position of a \n",
      "  local difficulty can be determined (singularity, discontinuity) one will \n",
      "  probably gain from splitting up the interval and calling the integrator \n",
      "  on the subranges.  Perhaps a special-purpose integrator should be used.\n",
      "  warnings.warn(msg, IntegrationWarning)\n"
     ]
    },
    {
     "data": {
      "text/plain": [
       "array(0.944296669724061)"
      ]
     },
     "execution_count": 12,
     "metadata": {},
     "output_type": "execute_result"
    }
   ],
   "source": [
    "dist = d['IND'][2011]\n",
    "\n",
    "grid = np.arange(0, 20, 0.2)\n",
    "\n",
    "plt.rcParams[\"figure.figsize\"] = (12,6)\n",
    "\n",
    "plt.plot(grid,dist.pdf(grid),'g')\n",
    "plt.plot(grid,dist.pdf_smooth(grid),'r')\n",
    "\n",
    "plt.show()\n",
    "\n",
    "import scipy.integrate\n",
    "scipy.integrate.quad(dist.pdf, dist.min_ppp_day, dist.max_ppp_day)\n",
    "\n",
    "#dist.lorenz_smooth\n",
    "\n",
    "#plt.plot(dist.lorenz_smooth.p, dist.lorenz_smooth.L)\n",
    "dist.max_ppp_day\n",
    "\n",
    "dist.cdf_smooth(11)"
   ]
  },
  {
   "cell_type": "code",
   "execution_count": 13,
   "metadata": {
    "collapsed": false
   },
   "outputs": [
    {
     "name": "stdout",
     "output_type": "stream",
     "text": [
      "CAF 2008 -5.994596476442348e-05\n",
      "FJI 2008 -6.8560715024541685e-06\n",
      "FSM 2013 -0.0001841730560130262\n",
      "BTN 2012 -3.6812498281650794e-06\n",
      "ETH 2010 -8.346612455249826e-05\n",
      "HUN 2012 -4.7518753590278445e-05\n",
      "GAB 2005 -0.00011299676543753428\n",
      "GTM 2014 -8.759303008168309e-05\n",
      "AGO 2008 -0.00010838272552244157\n",
      "DJI 2013 -4.558960465715769e-06\n"
     ]
    }
   ],
   "source": [
    "for cc3, year in latest_country_years.items():\n",
    "    if d[cc3][year].pdf(100) < 0:\n",
    "        print(cc3, year, d[cc3][year].pdf(100))"
   ]
  },
  {
   "cell_type": "code",
   "execution_count": 14,
   "metadata": {
    "collapsed": false
   },
   "outputs": [
    {
     "data": {
      "image/png": "[encoded data removed]",
      "text/plain": [
       "<matplotlib.figure.Figure at 0x1091edbe0>"
      ]
     },
     "metadata": {},
     "output_type": "display_data"
    }
   ],
   "source": [
    "region_cols = {'EAS': 'red', 'ECS': 'blue', 'LCN': 'green', 'MEA': 'yellow', 'NAC': 'blue', 'SAS': 'orange', 'SSF': 'pink'}\n",
    "region_sort = {'EAS': 7, 'ECS': 2, 'LCN': 4, 'MEA': 5, 'NAC': 1, 'SAS': 6, 'SSF': 3}\n",
    "grid = np.arange(0,300,0.2)\n",
    "\n",
    "stacks = sorted(latest_country_years.items(), key = lambda x: (region_sort[d[x[0]][x[1]].region_wb], d[x[0]][x[1]].population))\n",
    "bigdf = np.row_stack([np.nan_to_num(d[cc3][year].population*d[cc3][year].pdf_smooth_semilog(grid)) for (cc3, year) in stacks])\n",
    "\n",
    "ax = plt.subplot()\n",
    "ax.set_xscale(\"log\", nonposx='clip')\n",
    "plt.xlim(0.1,300)\n",
    "plt.stackplot(grid,bigdf,colors=[region_cols[d[cc3][year].region_wb] for (cc3, year) in stacks],edgecolor='none')\n",
    "plt.axvline(1.90)\n",
    "plt.axvline(20)\n",
    "plt.show()"
   ]
  },
  {
   "cell_type": "code",
   "execution_count": 293,
   "metadata": {
    "collapsed": false
   },
   "outputs": [
    {
     "data": {
      "text/plain": [
       "array([  0. ,   0.2,   0.4,   0.6,   0.8,   1. ,   1.2,   1.4,   1.6,\n",
       "         1.8,   2. ,   2.2,   2.4,   2.6,   2.8,   3. ,   3.2,   3.4,\n",
       "         3.6,   3.8,   4. ,   4.2,   4.4,   4.6,   4.8,   5. ,   5.2,\n",
       "         5.4,   5.6,   5.8,   6. ,   6.2,   6.4,   6.6,   6.8,   7. ,\n",
       "         7.2,   7.4,   7.6,   7.8,   8. ,   8.2,   8.4,   8.6,   8.8,\n",
       "         9. ,   9.2,   9.4,   9.6,   9.8,  10. ,  10.2,  10.4,  10.6,\n",
       "        10.8,  11. ,  11.2,  11.4,  11.6,  11.8,  12. ,  12.2,  12.4,\n",
       "        12.6,  12.8,  13. ,  13.2,  13.4,  13.6,  13.8,  14. ,  14.2,\n",
       "        14.4,  14.6,  14.8,  15. ,  15.2,  15.4,  15.6,  15.8,  16. ,\n",
       "        16.2,  16.4,  16.6,  16.8,  17. ,  17.2,  17.4,  17.6,  17.8,\n",
       "        18. ,  18.2,  18.4,  18.6,  18.8,  19. ,  19.2,  19.4,  19.6,  19.8])"
      ]
     },
     "execution_count": 293,
     "metadata": {},
     "output_type": "execute_result"
    }
   ],
   "source": [
    "grid"
   ]
  },
  {
   "cell_type": "markdown",
   "metadata": {
    "collapsed": true
   },
   "source": [
    "# Issues\n",
    "\n",
    "- It seems like BRA 2010 is not a well-formed Lorenz curve, around 57,58 it is non-convex\n",
    "- Some distributions are just noisy - e.g. GBR 2010 - these are messy to plot as distributions, better to plot as histograms?"
   ]
  },
  {
   "cell_type": "markdown",
   "metadata": {
    "collapsed": true
   },
   "source": [
    "## When plotting a density on a semilog (x) chart, need to rescale y to preserve integral\n",
    "\n",
    "The maths is relatively straightforward. Ordinarily we are plotting $f(x)$ against $x$, but now we are plotting against $y = log_{10}(x)$. Then $x = 10^y$ and so by a change of variables, we are plotting $f(10^y)$ against $y$ (but labelled with $x$). Then we can use change of variables to write the integral as\n",
    "\n",
    "$$\\int_a^b f(x)\\,dx = \\int_{\\log_{10}(a)}^{\\log_{10}(b)} (\\log 10) 10^y f(10^y)\\,dy = K \\int_{\\log_{10}(a)}^{\\log_{10}(b)} x f(x)\\,dy $$\n",
    "\n",
    "so that we need to rescale the y-values by x in order to preserve areas on a semilog chart. With this transformation, the appearance of shapes (e.g. symmetry) is not preserved and the y-axis becomes hard to interpret."
   ]
  },
  {
   "cell_type": "code",
   "execution_count": null,
   "metadata": {
    "collapsed": false
   },
   "outputs": [],
   "source": [
    "%matplotlib notebook\n",
    "from scipy.stats import uniform\n",
    "\n",
    "x_axis = np.arange(0, 20, 0.01)\n",
    "y1 = uniform.pdf(x_axis,1,1)\n",
    "y2 = uniform.pdf(x_axis,10,1)\n",
    "plt.plot(x_axis, y1)\n",
    "plt.plot(x_axis, y2)\n"
   ]
  },
  {
   "cell_type": "code",
   "execution_count": null,
   "metadata": {
    "collapsed": false
   },
   "outputs": [],
   "source": [
    "plt.semilogx(x_axis, (x_axis)*y1)\n",
    "plt.semilogx(x_axis, (x_axis)*y2)"
   ]
  },
  {
   "cell_type": "code",
   "execution_count": null,
   "metadata": {
    "collapsed": false
   },
   "outputs": [],
   "source": [
    "wbdata.search_indicators(\"electricity\")"
   ]
  },
  {
   "cell_type": "code",
   "execution_count": null,
   "metadata": {
    "collapsed": true
   },
   "outputs": [],
   "source": []
  }
 ],
 "metadata": {
  "kernelspec": {
   "display_name": "Python 3",
   "language": "python",
   "name": "python3"
  },
  "language_info": {
   "codemirror_mode": {
    "name": "ipython",
    "version": 3
   },
   "file_extension": ".py",
   "mimetype": "text/x-python",
   "name": "python",
   "nbconvert_exporter": "python",
   "pygments_lexer": "ipython3",
   "version": "3.5.2"
  }
 },
 "nbformat": 4,
 "nbformat_minor": 1
}
