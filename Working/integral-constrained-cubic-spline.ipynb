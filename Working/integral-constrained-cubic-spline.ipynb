{
 "cells": [
  {
   "cell_type": "code",
   "execution_count": 273,
   "metadata": {
    "collapsed": true
   },
   "outputs": [],
   "source": [
    "%matplotlib inline\n",
    "\n",
    "import matplotlib.pyplot as plt\n",
    "import numpy as np\n",
    "import scipy\n",
    "import scipy.optimize\n",
    "plt.rcParams[\"figure.figsize\"] = (10,4)\n",
    "colors = ['r','g','b']\n",
    "\n",
    "def inverse(f, domain=(0.0, 1.0-1e-6), extrapolate=(float(\"NaN\"), float(\"NaN\"))):\n",
    "    def inner(x):\n",
    "        if f(domain[0]) >= x:\n",
    "            return extrapolate[0]\n",
    "        if f(domain[1]) <= x:\n",
    "            return extrapolate[1]\n",
    "        else:\n",
    "            try:\n",
    "                return scipy.optimize.brentq(lambda y: f(y)-x, a=domain[0], b=domain[1])\n",
    "            except ValueError:\n",
    "                return float(\"NaN\")\n",
    "\n",
    "    return np.vectorize(inner)\n",
    "\n",
    "import scipy.misc\n",
    "def derivative(f, dx=1e-6):\n",
    "    return np.vectorize(lambda x: scipy.misc.derivative(f, x, dx))\n",
    "\n",
    "def lorenz(f, ymin, ymax, ymean):\n",
    "    finv = inverse(f, (ymin, ymax))\n",
    "    return np.vectorize(lambda p: scipy.integrate.quad(finv, 0, p)[0] / ymean)"
   ]
  },
  {
   "cell_type": "code",
   "execution_count": 274,
   "metadata": {
    "collapsed": false
   },
   "outputs": [
    {
     "data": {
      "image/png": "[encoded data removed]",
      "text/plain": [
       "<matplotlib.figure.Figure at 0x10f603940>"
      ]
     },
     "metadata": {},
     "output_type": "display_data"
    }
   ],
   "source": [
    "##########################################\n",
    "plt.rcParams[\"figure.figsize\"] = (4,3.5)\n",
    "##########################################\n",
    "\n",
    "# Observed points of the Lorenz curve and population parameters\n",
    "p = [0.0, 0.4, 0.6, 0.8,  1.0]\n",
    "L = [0.0, 0.16, 0.35, 0.64, 1.0]\n",
    "ymean = 10.0\n",
    "\n",
    "# Grids for plotting\n",
    "xgrid = np.linspace(0, 1, 1000)\n",
    "ygrid = np.linspace(0, 2*mean, 1000)\n",
    "\n",
    "plt.plot(p, L, '.-')\n",
    "plt.plot((0,1),(0,1),\"k--\");"
   ]
  },
  {
   "cell_type": "markdown",
   "metadata": {},
   "source": [
    "We define a Lorenz curve with 5 observed points $(L_i, p_i)$ for $i \\in 0, 1, 2, 3, 4 = k$ so that a single cubic cannot fit the implied CDF (except by chance). Then four spline segments of the CDF are defined, each as:\n",
    "\n",
    "$$\n",
    "F(y) = a_i y^3 + b_i y^2 + c_i y + d_i,\\qquad \\mathrm{for}\\quad y_{i-1} < y \\leq y_i\n",
    "$$\n",
    "\n",
    "Then we have a total of $4k-3$ interior constraints:\n",
    "- $k$ integral (Lorenz) constraints\n",
    "- $k-1$ point constraints (continuity)\n",
    "- $k-1$ first derivative constraints ($C^1$)\n",
    "- $k-1$ second derivative constraints ($C^2$)\n",
    "\n",
    "and we choose 4 further endpoint constraints from amongst the following:\n",
    "- endpoint constraints $y_\\min$, $y_\\max$\n",
    "- endpoint derivative constraints $f(y_\\min)$, $f(y_\\max)$\n",
    "- endpoint second derivative constraints $f'(y_\\min)$, $f'(y_\\max)$\n",
    "\n",
    "We can initialise all of these constraints with a least-squares fit as a good initial guess, using the midpoint fit as in the direct cubic spline interpolation."
   ]
  },
  {
   "cell_type": "code",
   "execution_count": 266,
   "metadata": {
    "collapsed": false
   },
   "outputs": [
    {
     "data": {
      "text/plain": [
       "[<matplotlib.lines.Line2D at 0x10f439b38>]"
      ]
     },
     "execution_count": 266,
     "metadata": {},
     "output_type": "execute_result"
    },
    {
     "data": {
      "image/png": "[encoded data removed]",
      "text/plain": [
       "<matplotlib.figure.Figure at 0x10f2b4be0>"
      ]
     },
     "metadata": {},
     "output_type": "display_data"
    }
   ],
   "source": [
    "# The y values are simply the mean-scaled derivatives of the Lorenz curve\n",
    "dL = np.diff(L)\n",
    "dp = np.diff(p)\n",
    "y = ymean * dL/dp\n",
    "#y = np.hstack((0.0, y))\n",
    "\n",
    "# And we arbitrarily assign these y values to the mid-points of the p values\n",
    "pmid = np.add(p[1:],p[:-1])/2\n",
    "#pmid = np.hstack((0.0, pmid))\n",
    "\n",
    "plt.plot(y, pmid, 'b.')\n",
    "\n",
    "# Find the least squares fit\n",
    "X = np.vstack((np.power(y, 3), np.power(y, 2), np.power(y, 1), np.power(y, 0)))\n",
    "\n",
    "# bX = y\n",
    "import numpy.linalg\n",
    "coef = numpy.linalg.lstsq(np.transpose(X), np.transpose(pmid))[0]\n",
    "\n",
    "lscubic = lambda y: np.matmul(coef, np.vstack((np.power(y, 3), np.power(y, 2), np.power(y, 1), np.power(y, 0))))\n",
    "\n",
    "plt.plot(ygrid, lscubic(ygrid), 'g-');\n",
    "\n",
    "yknots = inverse(lscubic, (0, 20))(pmid).tolist()\n",
    "plt.plot(yknots, pmid, \"g.\")"
   ]
  },
  {
   "cell_type": "markdown",
   "metadata": {},
   "source": [
    "Sure enough, the least square fit is imperfect. Now we use this curve to assign our starting values for all the segments."
   ]
  },
  {
   "cell_type": "code",
   "execution_count": 267,
   "metadata": {
    "collapsed": false
   },
   "outputs": [
    {
     "data": {
      "text/plain": [
       "[<matplotlib.lines.Line2D at 0x10f39a828>]"
      ]
     },
     "execution_count": 267,
     "metadata": {},
     "output_type": "execute_result"
    },
    {
     "data": {
      "image/png": "[encoded data removed]",
      "text/plain": [
       "<matplotlib.figure.Figure at 0x10f39a860>"
      ]
     },
     "metadata": {},
     "output_type": "display_data"
    }
   ],
   "source": [
    "N_segments = len(pmid)-1\n",
    "\n",
    "a = [coef[0]]*N_segments\n",
    "b = [coef[1]]*N_segments\n",
    "c = [coef[2]]*N_segments\n",
    "d = [coef[3]]*N_segments\n",
    "\n",
    "def make_cubic_spline(knots, a, b, c, d):\n",
    "    def cubic_spline(x):\n",
    "        if x < knots[0] or x > knots[-1]:\n",
    "            return float(\"NaN\")\n",
    "\n",
    "        for i in range(0, len(knots)):\n",
    "            if x < knots[i+1]:\n",
    "                return a[i] * x**3 + b[i] * x**2 + c[i] * x**1 + d[i]\n",
    "            \n",
    "    return np.vectorize(cubic_spline)\n",
    "        \n",
    "# Confirm that the piecewise cubic spline is correctly defined\n",
    "plt.plot(yknots, pmid, \"g.\")\n",
    "plt.plot(ygrid, make_cubic_spline(yknots, a, b, c, d)(ygrid), 'r-')"
   ]
  },
  {
   "cell_type": "code",
   "execution_count": 268,
   "metadata": {
    "collapsed": false
   },
   "outputs": [],
   "source": [
    "def errfun(yknots, a, b, c, d):\n",
    "    ymin, ymax = 2, 20\n",
    "    f_ymin, f_ymax = 0, 0\n",
    "    \n",
    "    err_lorenz = 0\n",
    "    err_point = 0\n",
    "    err_d1 = 0\n",
    "    err_d2 = 0\n",
    "    err_endpoints = 0\n",
    "    err_nonincr = 0\n",
    "    \n",
    "    for i in range(N_segments):\n",
    "        lhs = L[i+1] - L[i]\n",
    "        rhs = (3/4)*a[i]*(yknots[i+1] - yknots[i])**4 + (2/3)*b[i]*(yknots[i+1]-yknots[i])**3 + (1/2)*c[i]*(yknots[i+1]-yknots[i])**2\n",
    "        err_lorenz += (lhs-rhs)**2\n",
    "        \n",
    "    for i in range(N_segments-1):\n",
    "        lhs = a[i]*yknots[i+1]**3 + b[i]*yknots[i+1]**2 + c[i]*yknots[i+1]**1 + d[i]\n",
    "        rhs = a[i+1]*yknots[i+1]**3 + b[i+1]*yknots[i+1]**2 + c[i+1]*yknots[i+1]**1 + d[i+1]\n",
    "        err_point += (lhs-rhs)**2\n",
    "        \n",
    "    for i in range(N_segments-1):\n",
    "        lhs = 3*a[i]*yknots[i+1]**2 + 2*b[i]*yknots[i+1]**1 + c[i]\n",
    "        rhs = 3*a[i+1]*yknots[i+1]**2 + 2*b[i+1]*yknots[i+1]**1 + c[i+1]\n",
    "        err_d1 += (lhs-rhs)**2\n",
    "        \n",
    "    for i in range(N_segments-1):\n",
    "        lhs = 6*a[i]*yknots[i+1] + 2*b[i]\n",
    "        lhs = 6*a[i+1]*yknots[i+1] + 2*b[i+1]\n",
    "        err_d2 += (lhs-rhs)**2\n",
    "        \n",
    "    err_endpoints += (\n",
    "        (a[0]*ymin**3 + b[0]*ymin**2 + c[0]*ymin**1 + d[0]*ymin**0 - 0.0) ** 2 +\n",
    "        (a[-1]*ymax**3 + b[-1]*ymax**2 + c[-1]*ymax**1 + d[-1]*ymax**0 - 1.0) ** 2 +\n",
    "        (6*a[0]*ymin + 2*b[0] - f_ymin) ** 2 +\n",
    "        (6*a[-1]*ymax + 2*b[-1] - f_ymax) ** 2\n",
    "    )\n",
    "    \n",
    "    d1_grid = [3*a[i]*y**2 + 2*b[i]*y**1 + c[i] for y in np.linspace(ymin, ymax, 100)]\n",
    "    d1_grid_negs = -sum([p for p in d1_grid if p < 0])\n",
    "    err_nonincr = 10 * d1_grid_negs\n",
    "    \n",
    "    #print(\"errors:\", err_lorenz, err_point, err_d1, err_d2, err_endpoints)\n",
    "    return err_lorenz + err_point + err_d1 + err_d2 + err_endpoints + err_nonincr\n",
    "\n",
    "def collapse_args(yknots, a, b, c, d):\n",
    "    return yknots + a + b + c + d\n",
    "\n",
    "def extract_args(args):\n",
    "    if isinstance(args, list):\n",
    "        args = np.array(args)\n",
    "    xyknots, args = args[:len(yknots)], args[len(yknots):]\n",
    "    xa, args = args[:len(a)], args[len(a):]\n",
    "    xb, args = args[:len(b)], args[len(b):]\n",
    "    xc, args = args[:len(c)], args[len(c):]\n",
    "    xd, args = args[:len(d)], args[len(d):]\n",
    "    return xyknots.tolist(), xa.tolist(), xb.tolist(), xc.tolist(), xd.tolist()\n",
    "\n",
    "def errfun_wrapper(args):\n",
    "    return errfun(*extract_args(args))"
   ]
  },
  {
   "cell_type": "code",
   "execution_count": 269,
   "metadata": {
    "collapsed": false
   },
   "outputs": [
    {
     "data": {
      "text/plain": [
       "1.9859775161236837"
      ]
     },
     "execution_count": 269,
     "metadata": {},
     "output_type": "execute_result"
    }
   ],
   "source": [
    "errfun(yknots, a, b, c, d)\n",
    "errfun_wrapper(collapse_args(yknots, a, b, c, d))"
   ]
  },
  {
   "cell_type": "code",
   "execution_count": 270,
   "metadata": {
    "collapsed": false
   },
   "outputs": [
    {
     "data": {
      "text/plain": [
       "0.0054488649832662456"
      ]
     },
     "execution_count": 270,
     "metadata": {},
     "output_type": "execute_result"
    }
   ],
   "source": [
    "import scipy.optimize\n",
    "result = scipy.optimize.minimize(errfun_wrapper,collapse_args(yknots, a, b, c, d))\n",
    "yknots, a, b, c, d = extract_args(result.x)\n",
    "errfun(yknots, a, b, c, d)"
   ]
  },
  {
   "cell_type": "code",
   "execution_count": 271,
   "metadata": {
    "collapsed": false
   },
   "outputs": [
    {
     "data": {
      "text/plain": [
       "[<matplotlib.lines.Line2D at 0x10f2c7f60>]"
      ]
     },
     "execution_count": 271,
     "metadata": {},
     "output_type": "execute_result"
    },
    {
     "data": {
      "image/png": "[encoded data removed]",
      "text/plain": [
       "<matplotlib.figure.Figure at 0x10f2c7048>"
      ]
     },
     "metadata": {},
     "output_type": "display_data"
    }
   ],
   "source": [
    "\n",
    "plt.plot(y, pmid, 'b.')\n",
    "plt.plot(ygrid, make_cubic_spline(yknots, a, b, c, d)(ygrid), 'r-')\n",
    "#plt.plot(ygrid, a[-1]*ygrid**3 + b[-1]*ygrid**2 + c[-1]*ygrid**1 + d[-1]*ygrid**0)"
   ]
  },
  {
   "cell_type": "code",
   "execution_count": 272,
   "metadata": {
    "collapsed": false
   },
   "outputs": [
    {
     "name": "stdout",
     "output_type": "stream",
     "text": [
      "0.29000000000000004 0.28798342520347586\n"
     ]
    }
   ],
   "source": [
    "i = 2\n",
    "lhs = L[i+1] - L[i]\n",
    "rhs = (3/4)*a[i]*(yknots[i+1] - yknots[i])**4 + (2/3)*b[i]*(yknots[i+1]-yknots[i])**3 + (1/2)*c[i]*(yknots[i+1]-yknots[i])**2\n",
    "print(lhs, rhs)"
   ]
  },
  {
   "cell_type": "code",
   "execution_count": 282,
   "metadata": {
    "collapsed": false
   },
   "outputs": [
    {
     "name": "stderr",
     "output_type": "stream",
     "text": [
      "/usr/local/lib/python3.5/site-packages/scipy/integrate/quadpack.py:356: IntegrationWarning: Extremely bad integrand behavior occurs at some points of the\n",
      "  integration interval.\n",
      "  warnings.warn(msg, IntegrationWarning)\n",
      "/usr/local/lib/python3.5/site-packages/scipy/integrate/quadpack.py:356: IntegrationWarning: The occurrence of roundoff error is detected, which prevents \n",
      "  the requested tolerance from being achieved.  The error may be \n",
      "  underestimated.\n",
      "  warnings.warn(msg, IntegrationWarning)\n",
      "/usr/local/lib/python3.5/site-packages/scipy/integrate/quadpack.py:356: IntegrationWarning: The maximum number of subdivisions (50) has been achieved.\n",
      "  If increasing the limit yields no improvement it is advised to analyze \n",
      "  the integrand in order to determine the difficulties.  If the position of a \n",
      "  local difficulty can be determined (singularity, discontinuity) one will \n",
      "  probably gain from splitting up the interval and calling the integrator \n",
      "  on the subranges.  Perhaps a special-purpose integrator should be used.\n",
      "  warnings.warn(msg, IntegrationWarning)\n",
      "/usr/local/lib/python3.5/site-packages/numpy/lib/function_base.py:2287: RuntimeWarning: invalid value encountered in ? (vectorized)\n",
      "  outputs = ufunc(*inputs)\n"
     ]
    },
    {
     "data": {
      "text/plain": [
       "[<matplotlib.lines.Line2D at 0x10fa574e0>]"
      ]
     },
     "execution_count": 282,
     "metadata": {},
     "output_type": "execute_result"
    },
    {
     "data": {
      "image/png": "[encoded data removed]",
      "text/plain": [
       "<matplotlib.figure.Figure at 0x10f870cc0>"
      ]
     },
     "metadata": {},
     "output_type": "display_data"
    }
   ],
   "source": [
    "plt.plot(xgrid, lorenz(make_cubic_spline(yknots, a, b, c, d), 3, 18, ymean)(xgrid))\n",
    "#plt.plot(xgrid, inverse(make_cubic_spline(yknots, a, b, c, d), (3, 18), (0,1))(xgrid))"
   ]
  },
  {
   "cell_type": "code",
   "execution_count": null,
   "metadata": {
    "collapsed": true
   },
   "outputs": [],
   "source": []
  }
 ],
 "metadata": {
  "kernelspec": {
   "display_name": "Python 3",
   "language": "python",
   "name": "python3"
  },
  "language_info": {
   "codemirror_mode": {
    "name": "ipython",
    "version": 3
   },
   "file_extension": ".py",
   "mimetype": "text/x-python",
   "name": "python",
   "nbconvert_exporter": "python",
   "pygments_lexer": "ipython3",
   "version": "3.5.2"
  }
 },
 "nbformat": 4,
 "nbformat_minor": 1
}
