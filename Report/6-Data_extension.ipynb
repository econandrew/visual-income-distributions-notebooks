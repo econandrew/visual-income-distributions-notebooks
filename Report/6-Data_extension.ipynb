{
 "cells": [
  {
   "cell_type": "markdown",
   "metadata": {},
   "source": [
    "# Data extension"
   ]
  },
  {
   "cell_type": "markdown",
   "metadata": {
    "collapsed": true
   },
   "source": [
    "> This section is subject to change. We have used a set of simple rules for interpolation, extrapolation and harmonization in order to have a sufficiently large set of distributions available to test out visualizations in the prototype. **We have erred heavily on the side of generating longer time series, rather than accurate data. Once we refine the visualizations we should probably revert to a more conservative set of rules.** At a minimum, the app should very clearly distinguish between survey years and imputed years."
   ]
  },
  {
   "cell_type": "markdown",
   "metadata": {},
   "source": [
    "The set of Lorenz tables extracted from PovCalNet represents only actual survey years. Moreover, in some cases surveys are only representative of a subpopulation (e.g. urban residents). Here we briefly summarise the rules we apply to grow this set of around 1,400 distributions to cover a larger period of time. These steps follow in the sequence below."
   ]
  },
  {
   "cell_type": "markdown",
   "metadata": {},
   "source": [
    "## Interpolation"
   ]
  },
  {
   "cell_type": "markdown",
   "metadata": {},
   "source": [
    "When two distributions exist for the same measure (consumption or income) and the same population (same country, and either urban, rural or national), we do a simple time-weighted linear interpolation between the two densities to generate intervening years. That is, for year $t$ without a survey, but bounded by two survey years such that $t_a < t < t_b$, we set:\n",
    "\n",
    "$$\n",
    "    f_t(y) = \\frac{t - t_a}{t_b - t_a} \\cdot f_{t_b}(y) + \\left( 1 - \\frac{t - t_a}{t_b - t_a} \\right) \\cdot f_{t_a}(y)\n",
    "$$\n",
    "\n",
    "**Alternatives:** We could weight the linear interpolation by some macroeconomic variable that is available in all time periods (e.g. household final consumption expenditure per capita or GDP per capita), as we do for extrapolation. This would have more impact when the gaps between surveys are larger (ie. more than a year or two)."
   ]
  },
  {
   "cell_type": "markdown",
   "metadata": {},
   "source": [
    "## Extrapolation"
   ]
  },
  {
   "cell_type": "markdown",
   "metadata": {},
   "source": [
    "For years beyond the range of available surveys, we extrapolate. First, we extrapolate based on household final consumption expenditure (HFCE) per capita, to the extent that it is available. Then, we extrapolate based on GDP per capita. All extrapolation merely scales the distribution about zero, which assumes distributional neutral growth (or shrinkage) of all incomes, and will not, for example, change the Gini index. For example, to extrapolate back to year $t$ where $t < t_{a}$, the earliest survey, we use:\n",
    "$$\n",
    "    f_t(y) = f_{t_a} \\left( \\frac{M_{t_a}}{M_t} \\cdot y \\right)\n",
    "$$\n",
    "where both $M_t$ and $M_{t_a}$ are either HFCE per capita or GDP per capita, depending on availability.\n",
    "\n",
    "**Alternatives**: We could use other macro variables for extrapolation. We could use an external Gini index series to attempt to extrapolate shape changes in the distribution over time as well."
   ]
  },
  {
   "cell_type": "markdown",
   "metadata": {},
   "source": [
    "## Combining rural and urban"
   ]
  },
  {
   "cell_type": "markdown",
   "metadata": {},
   "source": [
    "When both rural and urban subpopulation distributions are present, we build a national distribution using a population-weighted average of the two densities. That is, for year $t$:\n",
    "$$\n",
    "    f_{t,national}(y) = P_{t,urban} f_{t,urban}(y) + P_{t,rural} f_{t,rural}(y)\n",
    "$$\n",
    "where $P$ is the relevant population.\n",
    "\n",
    "Where only one of rural or urban is available we assume this distribution applies to the entire population (recognizing that this is an obviously flawed assumption).\n",
    "\n",
    "**Alternatives**: The main alternative here would be to simply ignore years where only urban or only rural distributions are available."
   ]
  },
  {
   "cell_type": "markdown",
   "metadata": {},
   "source": [
    "## (Not) Harmonizing consumption and income"
   ]
  },
  {
   "cell_type": "markdown",
   "metadata": {},
   "source": [
    "Like most other work in this area, we make no attempt to deal with the inconsistency of some countries using income surveys while others use consumption surveys. This would take effort substantially beyond the scope of this project, although it would no doubt be highly worthwhile.\n",
    "\n",
    "When a country has both a consumption and an income series, we use the consumption series only and the income series is ignored.\n",
    "\n",
    "**Alternatives**: We could use whichever series was longer, income or consumption (although since this stage happens after extrapolation, the expanded series of both will usually be the same length."
   ]
  }
 ],
 "metadata": {
  "kernelspec": {
   "display_name": "Python 3",
   "language": "python",
   "name": "python3"
  },
  "language_info": {
   "codemirror_mode": {
    "name": "ipython",
    "version": 3
   },
   "file_extension": ".py",
   "mimetype": "text/x-python",
   "name": "python",
   "nbconvert_exporter": "python",
   "pygments_lexer": "ipython3",
   "version": "3.5.2"
  }
 },
 "nbformat": 4,
 "nbformat_minor": 2
}
