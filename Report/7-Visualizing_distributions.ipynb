{
 "cells": [
  {
   "cell_type": "markdown",
   "metadata": {},
   "source": [
    "# Visualizing distributions"
   ]
  },
  {
   "cell_type": "markdown",
   "metadata": {},
   "source": [
    "For offline reading, this chapter briefly summarizes the visualizations that are currently available, including a brief summary of major design choices. Since the major aim of the project was an _interactive_ visualization, the reader is strongly urged to visit the [online interactive app](http://projects.andrewwhitby.com/visual-income-distributions) in addition to browsing this chapter.\n",
    "\n",
    "Examples are shown for eight countries of the Communauté Financière Africaine (CFA) currency union: Benin, Burkina Faso, Guinea-Bissau, Côte d'Ivoire, Mali, Niger, Senegal and Togo, for the year 2000 (which involves extrapolated distributions in some cases). The legend as it appears in the app is reproduced in Figure 7.1"
   ]
  },
  {
   "cell_type": "markdown",
   "metadata": {},
   "source": [
    "![_**Figure 7.1:** Screenshot of the legend for the selection of CFA countries_](images/legend.png)"
   ]
  },
  {
   "cell_type": "markdown",
   "metadata": {
    "collapsed": true
   },
   "source": [
    "At present when multiple countries are selected, their distributions are aggregated (resulting in stacked visualizations or a single aggregate), rather than compared side-by-side or in overlay. In future it would be desirable to have both options. Additionally, all distributions are weighted by population (necessary for meaningful visual aggregation), which should be optional in future. Finally, as with the other parts of this project, this is a prototype, \"minimum viable product\": features like label axes, hover text and so on should be added in future.\n",
    "\n",
    "The chapter concludes with a discussion of other visualizations that would be valuable to include in further work."
   ]
  },
  {
   "cell_type": "markdown",
   "metadata": {},
   "source": [
    "## Density (p.d.f.)"
   ]
  },
  {
   "cell_type": "markdown",
   "metadata": {},
   "source": [
    "The density plot (Figure 7.2) is standard: weighted by population, and stacked and colored by country. The income axis limits are determined so that the 95th percentile of all countries included is displayed."
   ]
  },
  {
   "cell_type": "markdown",
   "metadata": {},
   "source": [
    "![_**Figure 7.2:** Screenshot of the PDF plot, ordinary linear income axis_](images/pdf.png)"
   ]
  },
  {
   "cell_type": "markdown",
   "metadata": {},
   "source": [
    "### Log axis"
   ]
  },
  {
   "cell_type": "markdown",
   "metadata": {},
   "source": [
    "In the log income (x) axis version of the plot (Figure 7.3), the limits are fixed at 1 and 10,000 for all countries, in order to provide a globally comparable visualization. The density value is scaled by the x axis value in order to create areas that reflect total population of each country. As a consequence, the y axis unit is no longer constant along the x axis, and loses meaning, so the y axis is not labelled."
   ]
  },
  {
   "cell_type": "markdown",
   "metadata": {},
   "source": [
    "![_**Figure 7.3:** Screenshot of the PDF plot, logarithmic income axis_](images/pdf-log.png)"
   ]
  },
  {
   "cell_type": "markdown",
   "metadata": {},
   "source": [
    "## Distribution function (c.d.f.)"
   ]
  },
  {
   "cell_type": "markdown",
   "metadata": {},
   "source": [
    "The distribution plot (Figure 7.4) is the counterpart of the density plot. It is generally uninteresting."
   ]
  },
  {
   "cell_type": "markdown",
   "metadata": {},
   "source": [
    "![_**Figure 7.4:** Screenshot of the CDF plot, ordinary linear income axis_](images/cdf.png)"
   ]
  },
  {
   "cell_type": "markdown",
   "metadata": {},
   "source": [
    "### Log axis"
   ]
  },
  {
   "cell_type": "markdown",
   "metadata": {},
   "source": [
    "The log income axis distribution plot (Figure 7.5) is the counterpart of the log income axis density plot. It is generally uninteresting. Note that for the distribution plot, the y axis values are not rescaled, as this is not a chart on which area is interpretable. (Although areas are shaded, this is to indicate stacking rather than draw attention to area as such.)"
   ]
  },
  {
   "cell_type": "markdown",
   "metadata": {},
   "source": [
    "![_**Figure 7.5:** Screenshot of the CDF plot, logarithmic income axis_](images/cdf-log.png)"
   ]
  },
  {
   "cell_type": "markdown",
   "metadata": {},
   "source": [
    "## Histogram"
   ]
  },
  {
   "cell_type": "markdown",
   "metadata": {},
   "source": [
    "Histograms provide a similar perspective to densities, with a couple of advantages. First, with relatively few bins, they provide a more-smoothed view of the distribution than densities, elimintating potentially distracting spikes. Second, whereas the density y axis is only meaningful under integration (which a viewer will generally not do in their head), the y axis of a histogram shows actual totals for each column.\n",
    "\n",
    "In the example plot (Figure 7.6), for example, this allows a viewer to roughly estimate that around 4 million people in these countries live on less than ~$PPP 13 per month, and that most of those live in Mali (looking at the first column). This sort of quick calculation is not easy on a density plot.\n",
    "\n",
    "The histogram in the app is designed to be visually consistent (ie. in scale) with the density. Hence, the same 0 to maximum 95th percentile limits are used. This range is divided into 20 equal-width bins, with the final bin actually incorporating the entire right tail of the distribution, even beyond P95 (as is common, or even conventional, in income histograms)."
   ]
  },
  {
   "cell_type": "markdown",
   "metadata": {},
   "source": [
    "![_**Figure 7.6:** Screenshot of the histogram plot, ordinary linear income axis_](images/histogram.png)"
   ]
  },
  {
   "cell_type": "markdown",
   "metadata": {},
   "source": [
    "### Log axis"
   ]
  },
  {
   "cell_type": "markdown",
   "metadata": {},
   "source": [
    "The log income axis histogram (Figure 7.7) involves the most design choices, since there is not an obvious way to depict this. Two obvious approaches were rejected:\n",
    "\n",
    "- binning the data in non-log income space, which would result in a transformed histogram but without any benefit beyond the regular histogram\n",
    "- binning the data in equal-wide intervals in log income space, which would result in uninterpretable bin boundaries\n",
    "\n",
    "Instead, we constructed a set of bins that are approximately equal-width in log income space, but are adjusted to fall on interpretable boundaries. These boundaries are still essentially, with the exception of \\$58 PPP, which is the threshold of extreme poverty (\\$1.90 per day), and \\$94 PPP, which equate to the higher \\$3.10 per day concept.\n",
    "\n",
    "Here the column widths indicate the bin boundaries, and so vary slightly over the bins. They should not, however, be interpreted in an areal sense. For this reason, the lowest bin (which in reality extends down to 0) is shown with a false width, so as not to overwhelm. With the exception of this left-most bin, the chart is scaled to be visually comparable with the log density."
   ]
  },
  {
   "cell_type": "markdown",
   "metadata": {},
   "source": [
    "![_**Figure 7.7:** Screenshot of the histogram plot, logarithmic income axis_](images/histogram-log.png)"
   ]
  },
  {
   "cell_type": "markdown",
   "metadata": {},
   "source": [
    "## Lorenz curve"
   ]
  },
  {
   "cell_type": "markdown",
   "metadata": {},
   "source": [
    "The Lorenz curves are shown straightforwardly (Figure 7.8). Since Lorenz curves cannot be decomposed, the individual country Lorenz curves are shown, colored by country, as well as the aggregate Lorenz curve for the selection, colored black."
   ]
  },
  {
   "cell_type": "markdown",
   "metadata": {},
   "source": [
    "![_**Figure 7.8:** Screenshot of the Lorenz curve plot_](images/lorenz.png)"
   ]
  },
  {
   "cell_type": "markdown",
   "metadata": {},
   "source": [
    "## Deciles"
   ]
  },
  {
   "cell_type": "markdown",
   "metadata": {},
   "source": [
    "The deciles chart (Figure 7.9) shows average income per income decile in the population. As with the Lorenz curve, this cannot be decomposed by country, and only the aggregate is shown. This is the chart that most clearly demonstrates error in the right tail, since the highest decile is usually underestimated compared with other sources. There are at least two reasons for this:\n",
    "\n",
    "- In the modelling stage, we only represented up to the 99th percentile, so the final percentile with the highest incomes is missing. This could easily be fixed by increasing the range to, say, the 99.99th percentile.\n",
    "\n",
    "- However, even then, household survey data of the kind in PovcalNet is well known to fail to capture the highest income earners (this being the reason the WID project prefers taxation records as a source of data).\n",
    "\n",
    "Despite this underestimation, this chart is still very effective in illustrating income disparities."
   ]
  },
  {
   "cell_type": "markdown",
   "metadata": {},
   "source": [
    "![_**Figure 7.9:** Screenshot of the deciles plot_](images/deciles.png)"
   ]
  },
  {
   "cell_type": "markdown",
   "metadata": {},
   "source": [
    "## Future chart types"
   ]
  },
  {
   "cell_type": "markdown",
   "metadata": {},
   "source": [
    "A number of other chart types were considered during the course of this project, and should be tested for inclusion in future. In particular, all the charts currently depict snapshot of a point in time - although the user can interactively change the time point, there is no way to directly compare distribution characteristics at different time points. Options for this could include:\n",
    "\n",
    "- growth incidence charts, which compare income growth at different quantiles of the income distribution, between a base year and a final year\n",
    "- time series plots of income shares or means (e.g. top 10% share, bottom 40% share)"
   ]
  }
 ],
 "metadata": {
  "kernelspec": {
   "display_name": "Python 3",
   "language": "python",
   "name": "python3"
  },
  "language_info": {
   "codemirror_mode": {
    "name": "ipython",
    "version": 3
   },
   "file_extension": ".py",
   "mimetype": "text/x-python",
   "name": "python",
   "nbconvert_exporter": "python",
   "pygments_lexer": "ipython3",
   "version": "3.5.2"
  }
 },
 "nbformat": 4,
 "nbformat_minor": 2
}
