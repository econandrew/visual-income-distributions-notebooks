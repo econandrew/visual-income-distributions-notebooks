{
 "cells": [
  {
   "cell_type": "markdown",
   "metadata": {},
   "source": [
    "# Extracting data from PovCalNet"
   ]
  },
  {
   "cell_type": "markdown",
   "metadata": {},
   "source": [
    "PovCalNet is primarily designed for generating poverty and distributional statistics for custom groupings of countries and years. It does not, at present, provide an easy way to extract machine-readable data on the underlying distributions. In order to make this possible, we constructed a script to do this."
   ]
  },
  {
   "cell_type": "markdown",
   "metadata": {},
   "source": [
    "## PovCalNet raw data"
   ]
  },
  {
   "cell_type": "markdown",
   "metadata": {},
   "source": [
    "PovCalNet contains data on income distributions for TODO country-year or country-part-year combinations. Underlying each of these is distribution data in one of two formats:\n",
    "\n",
    "- **Unit record**. A vector of raw income (consumption) observations from an actual survey. This is the most common case, particularly for recent years in which survey availability has expanded. Typically this will have a sample size of several thousand, but ranges from under 1000 to over 100,000. For these datasets, statistics like headcount poverty and Gini index are calculated directly from the observations.\n",
    "- **Grouped**. A list of points on a Lorenz curve, the exact number depending on the detail at which grouped data were available. This format is most common for older data (especially pre-1990), where original survey observations are not available. It is also used for certain countries (e.g. China) where only grouped data are made available to the PovCalNet team. For these datasets, two parametric Lorenz curve models are fitted to the points, and statistics are calculated from the better-fitting distribution."
   ]
  },
  {
   "cell_type": "markdown",
   "metadata": {},
   "source": [
    "## The detailed PovCalNet output"
   ]
  },
  {
   "cell_type": "markdown",
   "metadata": {},
   "source": [
    "PovCalNet is designed to provide formatted output on a particular country-year query, as in Figure 2.1."
   ]
  },
  {
   "cell_type": "markdown",
   "metadata": {},
   "source": [
    "![_**Figure 2.1:** PovCalNet output for Argentina 1991_](images/povcalnet-argentina1991.png)"
   ]
  },
  {
   "cell_type": "markdown",
   "metadata": {},
   "source": [
    "However via the \"Detail output\" link at the right of the table, a far more detailed output can be obtained. For one of the shorter \"grouped\" format surveys, the first few lines look like this, with data following:"
   ]
  },
  {
   "cell_type": "code",
   "execution_count": 1,
   "metadata": {},
   "outputs": [
    {
     "name": "stdout",
     "output_type": "stream",
     "text": [
      "\n",
      "\n",
      "**********************************************************************************************\n",
      "**                                   Basic Information                                      **\n",
      "**********************************************************************************************\n",
      "\n",
      "----------------- Dataset Information -----------------\n",
      "                         Country: Argentina\n",
      "                    Country dode: ARG\n",
      "                       Data Year: 1991\n",
      "                        Coverage: Urban\n",
      "             Welfare measurement: Income\n",
      "                     Data format: Unit record\n",
      "                     Data source: ARG_U1991Y\n",
      "                  Data time span: UnDefined\n",
      "-------------------------------------------------------\n",
      "\n"
     ]
    }
   ],
   "source": [
    "with open(\"../data/txtcache/ARG_2_1991.txt\") as f:\n",
    "    for line in f.readlines()[:17]:\n",
    "        print(line, end=\"\")"
   ]
  },
  {
   "cell_type": "markdown",
   "metadata": {},
   "source": [
    "Crucially this detailed output contains\n",
    "\n",
    "- a specfication of the Lorenz curve: either the original points themselves (for grouped data cases) or a gridded sample of 100 points (for unit record cases).\n",
    "- the survey mean (in local currency and PPP$)\n",
    "\n",
    "This is enough information to reconstruct the survey data distribution with useably high accuracy.\n",
    "\n",
    "However, while this detailed output contains much useful information, it is not in a useful format to be ingested automatically by another process."
   ]
  },
  {
   "cell_type": "markdown",
   "metadata": {},
   "source": [
    "## Detailed PovCalNet output: as JSON\n"
   ]
  },
  {
   "cell_type": "markdown",
   "metadata": {},
   "source": [
    "We use a scraping (text parsing) technique to read the individual data items output in the detailed output and re-output them as JSON (JavaScript Object Notation), as flexible text-based format which can be read by a variety of tools and programming libraries.\n",
    "\n",
    "The first few lines of the output for the above example looks different, with more of the structure made explicit, but the same values can be seen:"
   ]
  },
  {
   "cell_type": "code",
   "execution_count": 2,
   "metadata": {
    "code_folding": [
     0
    ]
   },
   "outputs": [
    {
     "name": "stdout",
     "output_type": "stream",
     "text": [
      "{\n",
      "    \"dataset\": {\n",
      "        \"source\": \"ARG_U1991Y\",\n",
      "        \"timespan\": \"UnDefined\",\n",
      "        \"coverage\": \"Urban\",\n",
      "        \"year\": 1991,\n",
      "        \"iso3c\": \"ARG\",\n",
      "        \"format\": \"Unit record\",\n",
      "        \"country\": \"Argentina\",\n",
      "        \"measure\": \"Income\"\n",
      "    },\n"
     ]
    }
   ],
   "source": [
    "with open(\"../data/jsoncache/ARG_2_1991.json\") as f:\n",
    "    for line in f.readlines()[:11]:\n",
    "        print(line, end=\"\")"
   ]
  },
  {
   "cell_type": "markdown",
   "metadata": {},
   "source": [
    "This forms the input to the modelling stage of the project."
   ]
  }
 ],
 "metadata": {
  "kernelspec": {
   "display_name": "Python 3",
   "language": "python",
   "name": "python3"
  },
  "language_info": {
   "codemirror_mode": {
    "name": "ipython",
    "version": 3
   },
   "file_extension": ".py",
   "mimetype": "text/x-python",
   "name": "python",
   "nbconvert_exporter": "python",
   "pygments_lexer": "ipython3",
   "version": "3.5.2"
  }
 },
 "nbformat": 4,
 "nbformat_minor": 1
}
